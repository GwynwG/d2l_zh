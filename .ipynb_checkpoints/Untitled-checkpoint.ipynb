{
 "cells": [
  {
   "cell_type": "code",
   "execution_count": null,
   "metadata": {},
   "outputs": [],
   "source": [
    "import mxnet as mx\n",
    "import os\n",
    "a = mx.nd.ones((2, 3))\n",
    "b = a * 2 + 1\n",
    "b.asnumpy()\n"
   ]
  },
  {
   "cell_type": "code",
   "execution_count": null,
   "metadata": {},
   "outputs": [],
   "source": [
    "!jt -l"
   ]
  },
  {
   "cell_type": "code",
   "execution_count": null,
   "metadata": {},
   "outputs": [],
   "source": [
    "!jt -t chesterish -f fira -fs 13 -cellw 86% -ofs 11 -dfs 11 -T -N"
   ]
  },
  {
   "cell_type": "code",
   "execution_count": null,
   "metadata": {},
   "outputs": [],
   "source": [
    "!set MXNET_GLUON_REPO=http://apache-mxnet.s3.cn-north-1.amazonaws.com.cn/ jupyter notebook"
   ]
  },
  {
   "cell_type": "code",
   "execution_count": null,
   "metadata": {},
   "outputs": [],
   "source": [
    "os.environ['MXNET_GLUON_REPO'] = 'https://apache-mxnet.s3.cn-north-1.amazonaws.com.cn/'"
   ]
  },
  {
   "cell_type": "code",
   "execution_count": null,
   "metadata": {},
   "outputs": [],
   "source": [
    "%matplotlib inline\n",
    "from IPython import display\n",
    "from matplotlib import pyplot as plt\n",
    "from mxnet import autograd, nd\n",
    "import random\n",
    "\n",
    "num_inputs = 2\n",
    "num_examples = 1000\n",
    "true_w = [2, -3.4]\n",
    "true_b = 4.2\n",
    "features = nd.random.normal(scale=1, shape=(num_examples, num_inputs))  #  input  x\n",
    "labels = true_w[0] * features[:, 0] + true_w[1] * features[:, 1] + true_b  # output y\n",
    "labels += nd.random.normal(scale=0.01, shape=labels.shape)\n",
    "\n",
    "\n",
    "num_examples = len(features)\n",
    "indices = list(range(num_examples))\n",
    "random.shuffle(indices)\n",
    "#indices\n"
   ]
  },
  {
   "cell_type": "code",
   "execution_count": 8,
   "metadata": {},
   "outputs": [
    {
     "ename": "AttributeError",
     "evalue": "'Test' object has no attribute '__bar'",
     "output_type": "error",
     "traceback": [
      "\u001b[1;31m---------------------------------------------------------------------------\u001b[0m",
      "\u001b[1;31mAttributeError\u001b[0m                            Traceback (most recent call last)",
      "\u001b[1;32m<ipython-input-8-145a58377ceb>\u001b[0m in \u001b[0;36m<module>\u001b[1;34m\u001b[0m\n\u001b[0;32m     18\u001b[0m \u001b[1;33m\u001b[0m\u001b[0m\n\u001b[0;32m     19\u001b[0m \u001b[1;32mif\u001b[0m \u001b[0m__name__\u001b[0m \u001b[1;33m==\u001b[0m \u001b[1;34m\"__main__\"\u001b[0m\u001b[1;33m:\u001b[0m\u001b[1;33m\u001b[0m\u001b[1;33m\u001b[0m\u001b[0m\n\u001b[1;32m---> 20\u001b[1;33m     \u001b[0mmain\u001b[0m\u001b[1;33m(\u001b[0m\u001b[1;33m)\u001b[0m\u001b[1;33m\u001b[0m\u001b[1;33m\u001b[0m\u001b[0m\n\u001b[0m",
      "\u001b[1;32m<ipython-input-8-145a58377ceb>\u001b[0m in \u001b[0;36mmain\u001b[1;34m()\u001b[0m\n\u001b[0;32m     12\u001b[0m     \u001b[0mtest\u001b[0m \u001b[1;33m=\u001b[0m \u001b[0mTest\u001b[0m\u001b[1;33m(\u001b[0m\u001b[1;34m'hello'\u001b[0m\u001b[1;33m)\u001b[0m\u001b[1;33m\u001b[0m\u001b[1;33m\u001b[0m\u001b[0m\n\u001b[0;32m     13\u001b[0m     \u001b[1;31m# AttributeError: 'Test' object has no attribute '__bar'\u001b[0m\u001b[1;33m\u001b[0m\u001b[1;33m\u001b[0m\u001b[1;33m\u001b[0m\u001b[0m\n\u001b[1;32m---> 14\u001b[1;33m     \u001b[0mtest\u001b[0m\u001b[1;33m.\u001b[0m\u001b[0m__bar\u001b[0m\u001b[1;33m(\u001b[0m\u001b[1;33m)\u001b[0m\u001b[1;33m\u001b[0m\u001b[1;33m\u001b[0m\u001b[0m\n\u001b[0m\u001b[0;32m     15\u001b[0m     \u001b[1;31m# AttributeError: 'Test' object has no attribute '__foo'\u001b[0m\u001b[1;33m\u001b[0m\u001b[1;33m\u001b[0m\u001b[1;33m\u001b[0m\u001b[0m\n\u001b[0;32m     16\u001b[0m     \u001b[0mprint\u001b[0m\u001b[1;33m(\u001b[0m\u001b[0mtest\u001b[0m\u001b[1;33m.\u001b[0m\u001b[0m__foo\u001b[0m\u001b[1;33m)\u001b[0m\u001b[1;33m\u001b[0m\u001b[1;33m\u001b[0m\u001b[0m\n",
      "\u001b[1;31mAttributeError\u001b[0m: 'Test' object has no attribute '__bar'"
     ]
    }
   ],
   "source": [
    "class Test:\n",
    "\n",
    "    def __init__(self, foo):\n",
    "        self.__foo = foo\n",
    "\n",
    "    def __bar(self):\n",
    "        print(self.__foo)\n",
    "        print('__bar')\n",
    "\n",
    "\n",
    "def main():\n",
    "    test = Test('hello')\n",
    "    # AttributeError: 'Test' object has no attribute '__bar'\n",
    "    test.__bar()\n",
    "    # AttributeError: 'Test' object has no attribute '__foo'\n",
    "    print(test.__foo)\n",
    "\n",
    "\n",
    "if __name__ == \"__main__\":\n",
    "    main()"
   ]
  },
  {
   "cell_type": "markdown",
   "metadata": {},
   "source": [
    "面向对象中，常用术语包括：\n",
    "\n",
    "类：可以理解是一个模板，通过它可以创建出无数个具体实例。比如，前面编写的 tortoise 表示的只是乌龟这个物种，通过它可以创建出无数个实例来代表各种不同特征的乌龟（这一过程又称为类的实例化）。\n",
    "\n",
    "对象：类并不能直接使用，通过类创建出的实例（又称对象）才能使用。这有点像汽车图纸和汽车的关系，图纸本身（类）并不能为人们使用，通过图纸创建出的一辆辆车（对象）才能使用。\n",
    "\n",
    "属性：类中的所有变量称为属性。例如，tortoise 这个类中，bodyColor、footNum、weight、hasShell 都是这个类拥有的属性。\n",
    "\n",
    "方法：类中的所有函数通常称为方法。不过，和函数所有不同的是，类方法至少要包含一个 self 参数（后续会做详细介绍）。例如，tortoise 类中，crawl()、eat()、sleep()、protect() 都是这个类所拥有的方法，类方法无法单独使用，只能和类的对象一起使用。"
   ]
  },
  {
   "cell_type": "code",
   "execution_count": 1,
   "metadata": {},
   "outputs": [
    {
     "name": "stdout",
     "output_type": "stream",
     "text": [
      "这个人的名字是： 张三  年龄为： 20\n"
     ]
    }
   ],
   "source": [
    "class Person :\n",
    "    '''这是一个学习Python定义的一个Person类'''\n",
    "    # 下面定义了2个类变量\n",
    "    name = \"zhangsan\"\n",
    "    age = \"20\"\n",
    "    def __init__(self,name,age):\n",
    "        #下面定义 2 个实例变量\n",
    "        self.name = name\n",
    "        self.age = age\n",
    "        print(\"这个人的名字是：\",name,\" 年龄为：\",age)\n",
    "    # 下面定义了一个say实例方法\n",
    "    def say(self, content):\n",
    "        print(content)\n",
    "# 将该Person对象赋给p变量\n",
    "p = Person(\"张三\",20)"
   ]
  },
  {
   "cell_type": "code",
   "execution_count": 2,
   "metadata": {},
   "outputs": [
    {
     "name": "stdout",
     "output_type": "stream",
     "text": [
      "张三 20\n",
      "Python语言很简单，学习很容易！\n",
      "李刚 20\n"
     ]
    }
   ],
   "source": [
    "# 输出p的name、age实例变量\n",
    "print(p.name, p.age) \n",
    "# 访问p的name实例变量，直接为该实例变量赋值\n",
    "p.name = '李刚'\n",
    "# 调用p的say()方法，声明say()方法时定义了2个形参，但第一个形参（self）不需要传值，因此调用该方法只需为第二个形参指定一个值\n",
    "p.say('Python语言很简单，学习很容易！')\n",
    "# 再次输出p的name、age实例变量\n",
    "print(p.name, p.age)"
   ]
  },
  {
   "cell_type": "code",
   "execution_count": 3,
   "metadata": {},
   "outputs": [
    {
     "name": "stdout",
     "output_type": "stream",
     "text": [
      "zhangsan\n"
     ]
    }
   ],
   "source": [
    "# 删除p对象的name实例变量\n",
    "del p.name\n",
    "# 再次访问p的name实例变量\n",
    "print(p.name)"
   ]
  },
  {
   "cell_type": "markdown",
   "metadata": {},
   "source": [
    "类变量（类属性）\n",
    "类变量指的是定义在类中，但在各个类方法外的变量。类变量的特点是：所有类的实例化对象都可以共享类变量的值，即类变量可以在所有实例化对象中作为公用资源。\n",
    "\n",
    "注意，类变量推荐直接用类名访问，但也可以使用对象名访问。\n",
    "\n",
    "例如，下面代码定义了一个 Address 类，并为该类定义了多个类属性："
   ]
  },
  {
   "cell_type": "code",
   "execution_count": 5,
   "metadata": {},
   "outputs": [
    {
     "name": "stdout",
     "output_type": "stream",
     "text": [
      "广州\n",
      "510660\n",
      "广州\n",
      "510660\n",
      "佛山\n",
      "460110\n",
      "佛山\n",
      "460110\n"
     ]
    }
   ],
   "source": [
    "class Address :\n",
    "    detail = '广州'\n",
    "    post_code = '510660'\n",
    "    def info (self):\n",
    "        # 尝试直接访问类变量\n",
    "        #print(detail) # 报错\n",
    "        # 通过类来访问类变量\n",
    "        print(Address.detail) # 输出 广州\n",
    "        print(Address.post_code) # 输出 510660\n",
    "#创建 2 个类对象\n",
    "addr1 = Address()\n",
    "addr1.info()\n",
    "addr2 = Address()\n",
    "addr2.info()\n",
    "# 修改Address类的类变量 ，用类才能修改类变量，用对象（实例）就不行\n",
    "Address.detail = '佛山'\n",
    "Address.post_code = '460110'\n",
    "addr1.info()\n",
    "addr2.info()"
   ]
  },
  {
   "cell_type": "code",
   "execution_count": 7,
   "metadata": {},
   "outputs": [
    {
     "name": "stdout",
     "output_type": "stream",
     "text": [
      "佛山很美\n",
      "佛山很美\n"
     ]
    }
   ],
   "source": [
    "Address.depict =\"佛山很美\"\n",
    "print(addr1.depict)\n",
    "print(addr2.depict)"
   ]
  },
  {
   "cell_type": "code",
   "execution_count": 6,
   "metadata": {},
   "outputs": [
    {
     "name": "stdout",
     "output_type": "stream",
     "text": [
      "鼠标\n",
      "2016-06-16\n",
      "info方法中:  鼠标\n",
      "info方法中:  2016-06-16\n"
     ]
    }
   ],
   "source": [
    "class Record:\n",
    "    # 定义两个类变量\n",
    "    item = '鼠标'\n",
    "    date = '2016-06-16'\n",
    "    def info (self):\n",
    "        print('info方法中: ', self.item)\n",
    "        print('info方法中: ', self.date)\n",
    "rc = Record()\n",
    "print(rc.item) # '鼠标'\n",
    "print(rc.date) # '2016-06-16'\n",
    "rc.info()"
   ]
  },
  {
   "cell_type": "markdown",
   "metadata": {},
   "source": [
    "实例变量（实例属性）\n",
    "实例变量指的是定义在类的方法中的属性，它的特点是：只作用于调用方法的对象。\n",
    "\n",
    "注意，实例变量只能通过对象名访问，无法通过类名直接访问。\n",
    "\n",
    "Python 允许通过对象访问类变量，但无法通过对象修改类变量的值。因为，通过对象修改类变量的值，不是在给“类变量赋值”，而是定义新的实例变量。"
   ]
  },
  {
   "cell_type": "code",
   "execution_count": 8,
   "metadata": {},
   "outputs": [
    {
     "name": "stdout",
     "output_type": "stream",
     "text": [
      "显示器\n",
      "500\n",
      "鼠标\n",
      "2000\n"
     ]
    }
   ],
   "source": [
    "class Inventory:\n",
    "    # 定义两个类变量\n",
    "    item = '鼠标'\n",
    "    quantity = 2000\n",
    "    # 定义实例方法\n",
    "    def change(self, item, quantity):\n",
    "        # 下面赋值语句不是对类变量赋值，而是定义新的实例变量\n",
    "        self.item = item\n",
    "        self.quantity = quantity\n",
    "# 创建Inventory对象\n",
    "iv = Inventory()\n",
    "iv.change('显示器', 500)\n",
    "# 访问iv的item和quantity实例变量\n",
    "print(iv.item) # 显示器\n",
    "print(iv.quantity) # 500\n",
    "# 访问Inventory的item和quantity类变量\n",
    "print(Inventory.item) # 鼠标\n",
    "print(Inventory.quantity) # 2000"
   ]
  },
  {
   "cell_type": "markdown",
   "metadata": {},
   "source": [
    "上面程序中，第 8、9 行代码通过实例对 item、quantity 变量赋值，看上去很像是对类变量赋值，但并不是，它们的作用是：重新定义了两个实例变量。\n",
    "类中，实例变量和类变量可以同名，但是在这种情况下，使用类对象将无法调用类变量，因为它会首选实例变量，因此这也是不推荐“类变量使用对象名调用”的原因。\n",
    "\n",
    "上面程序在调用 Inventory 对象的 change() 方法之后，访问 Inventory 对象的 item、quantity 变量，由于该对象本身己有这两个实例变量，因此程序将会输出该对象的实例变量的值；接下来程序通过 Inventory 访问它的 item、quantity 两个类变量，此时才是真的访问类变量。\n",
    "即便程序通过类修改了两个类变量的值，程序中 Inventory 的实例变量的值也不会受到任何影响。例如如下代码："
   ]
  },
  {
   "cell_type": "code",
   "execution_count": 9,
   "metadata": {},
   "outputs": [
    {
     "name": "stdout",
     "output_type": "stream",
     "text": [
      "显示器\n",
      "500\n"
     ]
    }
   ],
   "source": [
    "Inventory.item = '类变量item'\n",
    "Inventory.quantity = '类变量quantity'\n",
    "# 访问iv的item和quantity实例变量\n",
    "print(iv.item)\n",
    "print(iv.quantity)"
   ]
  },
  {
   "cell_type": "markdown",
   "metadata": {},
   "source": [
    "上面程序开始就修改了 Inventory 类中两个类变量的值，但这种修改对 Inventory 对象的实例变量没有任何影响。\n",
    "\n",
    "同样，如果程序对一个对象的实例变量进行了修改，这种修改也不会影响类变量的值，更不会影响其他对象中实例变量的值。例如如下代码："
   ]
  },
  {
   "cell_type": "code",
   "execution_count": 10,
   "metadata": {},
   "outputs": [
    {
     "name": "stdout",
     "output_type": "stream",
     "text": [
      "类变量item\n",
      "类变量quantity\n",
      "iv实例变量item\n",
      "iv实例变量quantity\n"
     ]
    }
   ],
   "source": [
    "iv2 = Inventory()\n",
    "iv2.change('键盘',300)\n",
    "iv.item = 'iv实例变量item'\n",
    "iv.quantity = 'iv实例变量quantity'\n",
    "print(Inventory.item)\n",
    "print(Inventory.quantity)\n",
    "print(iv.item)\n",
    "print(iv.quantity)"
   ]
  },
  {
   "cell_type": "markdown",
   "metadata": {},
   "source": [
    "从输出结果很容易看出，修改一个对象的实例变量，既不会影响类变量的值，也不会影响其它对象的实例变量。\n",
    "\n",
    "和动态为类添加类变量不同，Python 只支持为特定的对象添加实例变量。例如，在之前代码的基础上，为 iv 对象添加 color 实例变量，实现代码为："
   ]
  },
  {
   "cell_type": "code",
   "execution_count": 11,
   "metadata": {},
   "outputs": [
    {
     "name": "stdout",
     "output_type": "stream",
     "text": [
      "red\n"
     ]
    },
    {
     "ename": "AttributeError",
     "evalue": "'Inventory' object has no attribute 'color'",
     "output_type": "error",
     "traceback": [
      "\u001b[1;31m---------------------------------------------------------------------------\u001b[0m",
      "\u001b[1;31mAttributeError\u001b[0m                            Traceback (most recent call last)",
      "\u001b[1;32m<ipython-input-11-a0784e5a57d8>\u001b[0m in \u001b[0;36m<module>\u001b[1;34m\u001b[0m\n\u001b[0;32m      2\u001b[0m \u001b[0mprint\u001b[0m\u001b[1;33m(\u001b[0m\u001b[0miv\u001b[0m\u001b[1;33m.\u001b[0m\u001b[0mcolor\u001b[0m\u001b[1;33m)\u001b[0m\u001b[1;33m\u001b[0m\u001b[1;33m\u001b[0m\u001b[0m\n\u001b[0;32m      3\u001b[0m \u001b[1;31m#因为 color 实例变量仅 iv 对象有，iv2 对象并没有，因此下面这行代码会报错\u001b[0m\u001b[1;33m\u001b[0m\u001b[1;33m\u001b[0m\u001b[1;33m\u001b[0m\u001b[0m\n\u001b[1;32m----> 4\u001b[1;33m \u001b[0mprint\u001b[0m\u001b[1;33m(\u001b[0m\u001b[0miv2\u001b[0m\u001b[1;33m.\u001b[0m\u001b[0mcolor\u001b[0m\u001b[1;33m)\u001b[0m\u001b[1;33m\u001b[0m\u001b[1;33m\u001b[0m\u001b[0m\n\u001b[0m",
      "\u001b[1;31mAttributeError\u001b[0m: 'Inventory' object has no attribute 'color'"
     ]
    }
   ],
   "source": [
    "iv.color=\"red\"\n",
    "print(iv.color)\n",
    "#因为 color 实例变量仅 iv 对象有，iv2 对象并没有，因此下面这行代码会报错\n",
    "print(iv2.color)"
   ]
  },
  {
   "cell_type": "markdown",
   "metadata": {},
   "source": [
    "# We are all consenting adults here"
   ]
  },
  {
   "cell_type": "code",
   "execution_count": 10,
   "metadata": {},
   "outputs": [
    {
     "name": "stdout",
     "output_type": "stream",
     "text": [
      "hello\n",
      "__bar\n",
      "hello\n"
     ]
    }
   ],
   "source": [
    "class Test:\n",
    "\n",
    "    def __init__(self, foo):\n",
    "        self.__foo = foo\n",
    "\n",
    "    def __bar(self):\n",
    "        print(self.__foo)\n",
    "        print('__bar')\n",
    "\n",
    "def main():\n",
    "    test = Test('hello')\n",
    "    test._Test__bar() #对象名._类名__私有属性或方法\n",
    "    print(test._Test__foo)\n",
    "\n",
    "if __name__ == \"__main__\":\n",
    "    main()"
   ]
  },
  {
   "cell_type": "markdown",
   "metadata": {},
   "source": [
    "# @property装饰器\n",
    "之前我们讨论过Python中属性和方法访问权限的问题，虽然我们不建议将属性设置为私有的，但是如果直接将属性暴露给外界也是有问题的，比如我们没有办法检查赋给属性的值是否有效。我们之前的建议是将属性命名以单下划线开头，通过这种方式来暗示属性是受保护的，不建议外界直接访问，那么如果想访问属性可以通过属性的getter（访问器）和setter（修改器）方法进行对应的操作。如果要做到这点，就可以考虑使用@property包装器来包装getter和setter方法，使得对属性的访问既安全又方便，代码如下所示。"
   ]
  },
  {
   "cell_type": "code",
   "execution_count": 38,
   "metadata": {},
   "outputs": [
    {
     "name": "stdout",
     "output_type": "stream",
     "text": [
      "王大锤正在玩飞行棋.\n",
      "王大锤正在玩斗地主.\n",
      "Male\n"
     ]
    }
   ],
   "source": [
    "class Person(object):\n",
    "\n",
    "    def __init__(self, name, age):\n",
    "        self._name = name\n",
    "        self._age = age\n",
    "\n",
    "    # 访问器 - getter方法\n",
    "    @property\n",
    "    def name(self):\n",
    "        return self._name\n",
    "\n",
    "    # 访问器 - getter方法\n",
    "    @property\n",
    "    def age(self):\n",
    "        return self._age\n",
    "\n",
    "    # 修改器 - setter方法\n",
    "    @age.setter\n",
    "    def age(self, age):\n",
    "        self._age = age\n",
    "\n",
    "    def play(self):\n",
    "        if self._age <= 16:\n",
    "            print('%s正在玩飞行棋.' % self._name)\n",
    "        else:\n",
    "            print('%s正在玩斗地主.' % self._name)\n",
    "            \n",
    "def main():\n",
    "    person = Person('王大锤', 12)\n",
    "    person.play()\n",
    "    person.age = 22\n",
    "    person._gender = 'Male' #这里没有限制那些属性可以绑定，即使没有给出响应的定义也可以添加‘gender’这个属性\n",
    "    person.play()\n",
    "    #person.name = '元芳'  # AttributeError: can't set attribute\n",
    "\n",
    "\n",
    "if __name__ == '__main__':\n",
    "    main()\n",
    "    print(person._gender)"
   ]
  },
  {
   "cell_type": "markdown",
   "metadata": {},
   "source": [
    "# __slots__魔法\n",
    "我们讲到这里，不知道大家是否已经意识到，Python是一门动态语言。通常，动态语言允许我们在程序运行时给对象绑定新的属性或方法，当然也可以对已经绑定的属性和方法进行解绑定。但是如果我们需要限定自定义类型的对象只能绑定某些属性，可以通过在类中定义__slots__变量来进行限定。需要注意的是__slots__的限定只对当前类的对象生效，对子类并不起任何作用。"
   ]
  },
  {
   "cell_type": "code",
   "execution_count": 42,
   "metadata": {},
   "outputs": [
    {
     "name": "stdout",
     "output_type": "stream",
     "text": [
      "王大正在玩斗地主.\n",
      "Male\n"
     ]
    }
   ],
   "source": [
    "class Person(object):\n",
    "\n",
    "    # 限定Person对象只能绑定_name, _age和_gender属性\n",
    "    __slots__ = ('_name', '_age', '_gender')\n",
    "\n",
    "    def __init__(self, name, age):\n",
    "        self._name = name\n",
    "        self._age = age\n",
    "\n",
    "    @property\n",
    "    def name(self):\n",
    "        return self._name\n",
    "\n",
    "    @property\n",
    "    def age(self):\n",
    "        return self._age\n",
    "\n",
    "    @age.setter  #格式：@属性或方法的名字.setter或.getter\n",
    "    def age(self, age):\n",
    "        self._age = age\n",
    "\n",
    "    def play(self):\n",
    "        if self._age <= 16:\n",
    "            print('%s正在玩飞行棋.' % self._name)\n",
    "        else:\n",
    "            print('%s正在玩斗地主.' % self._name)\n",
    "\n",
    "def main():\n",
    "    person = Person('王大', 22)\n",
    "    person.play()\n",
    "    person._gender = 'Male' #这个不能改\n",
    "    #person._is_gay = True  #参看上一个Cell的 person._gender = 'Male'\n",
    "    # AttributeError: 'Person' object has no attribute '_is_gay'\n",
    "    \n",
    "\n",
    "if __name__ == '__main__':\n",
    "    main()\n",
    "    print(person._gender)"
   ]
  },
  {
   "cell_type": "code",
   "execution_count": 57,
   "metadata": {},
   "outputs": [
    {
     "name": "stdout",
     "output_type": "stream",
     "text": [
      "perimeter: 24\n",
      "area: 24.0\n"
     ]
    }
   ],
   "source": [
    "from math import sqrt\n",
    "\n",
    "\n",
    "class Triangle(object):\n",
    "\n",
    "    def __init__(self, a, b, c):\n",
    "        self._a = a\n",
    "        self._b = b\n",
    "        self._c = c\n",
    "\n",
    "    #@staticmethod\n",
    "    def is_valid(a, b, c):\n",
    "        return a + b > c and b + c > a and a + c > b\n",
    "\n",
    "    def perimeter(self):\n",
    "        return self._a + self._b + self._c\n",
    "\n",
    "    def area(self):\n",
    "        half = self.perimeter() / 2\n",
    "        return sqrt(half * (half - self._a) *\n",
    "                    (half - self._b) * (half - self._c))\n",
    "\n",
    "\n",
    "def main():\n",
    "    a , b , c = 6 , 8 , 10\n",
    "    # 静态方法和类方法都是通过给类发消息来调用的\n",
    "    if Triangle.is_valid(a, b, c):\n",
    "        t = Triangle(a, b, c)\n",
    "        print(f'perimeter: {t.perimeter()}')\n",
    "        # 也可以通过给类发消息来调用对象方法但是要传入接收消息的对象作为参数\n",
    "        # print(Triangle.perimeter(t))\n",
    "        print(f'area: {t.area()}')\n",
    "        # print(Triangle.area(t))\n",
    "    else:\n",
    "        print('无法构成三角形.')\n",
    "\n",
    "\n",
    "if __name__ == '__main__':\n",
    "    main()"
   ]
  },
  {
   "cell_type": "code",
   "execution_count": 59,
   "metadata": {},
   "outputs": [
    {
     "ename": "TypeError",
     "evalue": "__init__() missing 2 required positional arguments: 'name' and 'age'",
     "output_type": "error",
     "traceback": [
      "\u001b[1;31m---------------------------------------------------------------------------\u001b[0m",
      "\u001b[1;31mTypeError\u001b[0m                                 Traceback (most recent call last)",
      "\u001b[1;32m<ipython-input-59-8d05ac17a4ff>\u001b[0m in \u001b[0;36m<module>\u001b[1;34m\u001b[0m\n\u001b[0;32m     13\u001b[0m         \u001b[0mprint\u001b[0m\u001b[1;33m(\u001b[0m\u001b[0mcontent\u001b[0m\u001b[1;33m)\u001b[0m\u001b[1;33m\u001b[0m\u001b[1;33m\u001b[0m\u001b[0m\n\u001b[0;32m     14\u001b[0m \u001b[1;31m# 将该Person对象赋给p变量\u001b[0m\u001b[1;33m\u001b[0m\u001b[1;33m\u001b[0m\u001b[1;33m\u001b[0m\u001b[0m\n\u001b[1;32m---> 15\u001b[1;33m \u001b[0mp\u001b[0m \u001b[1;33m=\u001b[0m \u001b[0mPerson\u001b[0m\u001b[1;33m(\u001b[0m\u001b[1;33m)\u001b[0m\u001b[1;33m\u001b[0m\u001b[1;33m\u001b[0m\u001b[0m\n\u001b[0m",
      "\u001b[1;31mTypeError\u001b[0m: __init__() missing 2 required positional arguments: 'name' and 'age'"
     ]
    }
   ],
   "source": [
    "class Person :\n",
    "    '''这是一个学习Python定义的一个Person类'''\n",
    "    # 下面定义了2个类变量\n",
    "    name = \"zhangsan\"\n",
    "    age = \"20\"\n",
    "    def __init__(self,name,age):\n",
    "        #下面定义 2 个实例变量\n",
    "        self.name = name\n",
    "        self.age = age\n",
    "        print(\"这个人的名字是：\",name,\" 年龄为：\",age)\n",
    "    # 下面定义了一个say实例方法\n",
    "    def say(self, content):\n",
    "        print(content)\n",
    "# 将该Person对象赋给p变量\n",
    "p = Person()"
   ]
  },
  {
   "cell_type": "code",
   "execution_count": null,
   "metadata": {},
   "outputs": [],
   "source": [
    "import os\n",
    "import time\n",
    "\n",
    "\n",
    "def main():\n",
    "    content = '北京欢迎你为你开天辟地…………'\n",
    "    while True:\n",
    "        # 清理屏幕上的输出\n",
    "        os.system('cls')  # os.system('clear')\n",
    "        print(content)\n",
    "        # 休眠200毫秒\n",
    "        time.sleep(0.2)\n",
    "        content = content[1:] + content[0]\n",
    "\n",
    "\n",
    "if __name__ == '__main__':\n",
    "    main()"
   ]
  },
  {
   "cell_type": "code",
   "execution_count": 3,
   "metadata": {},
   "outputs": [
    {
     "name": "stdout",
     "output_type": "stream",
     "text": [
      "Number of rows: 4\n",
      "1\t\n",
      "1\t1\t\n",
      "1\t2\t1\t\n",
      "1\t3\t3\t1\t\n"
     ]
    }
   ],
   "source": [
    "def main():\n",
    "    num = int(input('Number of rows: '))\n",
    "    yh = [[]] * num\n",
    "    for row in range(len(yh)):\n",
    "        yh[row] = [None] * (row + 1)\n",
    "        for col in range(len(yh[row])):\n",
    "            if col == 0 or col == row:\n",
    "                yh[row][col] = 1\n",
    "            else:\n",
    "                yh[row][col] = yh[row - 1][col] + yh[row - 1][col - 1]\n",
    "            print(yh[row][col], end='\\t')\n",
    "        print()\n",
    "\n",
    "\n",
    "if __name__ == '__main__':\n",
    "    main()"
   ]
  },
  {
   "cell_type": "code",
   "execution_count": 2,
   "metadata": {},
   "outputs": [
    {
     "name": "stdout",
     "output_type": "stream",
     "text": [
      "{'骆昊': 95, '白元芳': 78, '狄仁杰': 82}\n",
      "{'one': 1, 'two': 2, 'three': 3, 'four': 4} {'a': '1', 'b': '2', 'c': '3'} {1: 1, 2: 4, 3: 9, 4: 16, 5: 25, 6: 36, 7: 49, 8: 64, 9: 81}\n",
      "95\n",
      "82\n",
      "骆昊: 95\n",
      "白元芳: 78\n",
      "狄仁杰: 82\n",
      "{'骆昊': 95, '白元芳': 65, '狄仁杰': 82, '诸葛王朗': 71, '冷面': 67, '方启鹤': 85}\n",
      "None\n",
      "60\n",
      "('方启鹤', 85)\n",
      "('冷面', 67)\n",
      "95\n",
      "{}\n"
     ]
    }
   ],
   "source": [
    "# 创建字典的字面量语法\n",
    "scores = {'骆昊': 95, '白元芳': 78, '狄仁杰': 82}\n",
    "print(scores)\n",
    "# 创建字典的构造器语法\n",
    "items1 = dict(one=1, two=2, three=3, four=4)\n",
    "# 通过zip函数将两个序列压成字典\n",
    "items2 = dict(zip(['a', 'b', 'c'], '123'))\n",
    "# 创建字典的推导式语法\n",
    "items3 = {num: num ** 2 for num in range(1, 10)}\n",
    "print(items1, items2, items3)\n",
    "# 通过键可以获取字典中对应的值\n",
    "print(scores['骆昊'])\n",
    "print(scores['狄仁杰'])\n",
    "# 对字典中所有键值对进行遍历\n",
    "for key in scores:\n",
    "    print(f'{key}: {scores[key]}')\n",
    "# 更新字典中的元素\n",
    "scores['白元芳'] = 65\n",
    "scores['诸葛王朗'] = 71\n",
    "scores.update(冷面=67, 方启鹤=85)\n",
    "print(scores)\n",
    "if '武则天' in scores:\n",
    "    print(scores['武则天'])\n",
    "print(scores.get('武则天'))\n",
    "# get方法也是通过键获取对应的值但是可以设置默认值\n",
    "print(scores.get('武则天', 60))\n",
    "# 删除字典中的元素\n",
    "print(scores.popitem())\n",
    "print(scores.popitem())\n",
    "print(scores.pop('骆昊', 100))\n",
    "# 清空字典\n",
    "scores.clear()\n",
    "print(scores)"
   ]
  },
  {
   "cell_type": "code",
   "execution_count": null,
   "metadata": {},
   "outputs": [],
   "source": [
    "# 创建集合的字面量语法\n",
    "set1 = {1, 2, 3, 3, 3, 2}\n",
    "print(set1)\n",
    "print('Length =', len(set1))\n",
    "# 创建集合的构造器语法(面向对象部分会进行详细讲解)\n",
    "set2 = set(range(1, 10))\n",
    "set3 = set((1, 2, 3, 3, 2, 1))\n",
    "print(set2, set3)\n",
    "# 创建集合的推导式语法(推导式也可以用于推导集合)\n",
    "set4 = {num for num in range(1, 100) if num % 3 == 0 or num % 5 == 0}\n",
    "print(set4)"
   ]
  },
  {
   "cell_type": "code",
   "execution_count": null,
   "metadata": {},
   "outputs": [],
   "source": [
    "list1 = ['orange', 'apple', 'zoo', 'internationalization', 'blueberry']\n",
    "list2 = sorted(list1)\n",
    "# sorted函数返回列表排序后的拷贝不会修改传入的列表\n",
    "# 函数的设计就应该像sorted函数一样尽可能不产生副作用\n",
    "list3 = sorted(list1, reverse=True)\n",
    "# 通过key关键字参数指定根据字符串长度进行排序而不是默认的字母表顺序\n",
    "list4 = sorted(list1, key=len)\n",
    "print(list1)\n",
    "print(list2)\n",
    "print(list3)\n",
    "print(list4)\n",
    "# 给列表对象发出排序消息直接在列表对象上进行排序\n",
    "list1.sort()\n",
    "print(list1)"
   ]
  },
  {
   "cell_type": "code",
   "execution_count": null,
   "metadata": {},
   "outputs": [],
   "source": [
    "a, b = 5, 10\n",
    "print(f'{a} * {b} = {a * b}')"
   ]
  },
  {
   "cell_type": "code",
   "execution_count": null,
   "metadata": {},
   "outputs": [],
   "source": [
    "variable = 300\n",
    "def test_scopt():\n",
    "    print(variable) #variable是test_scopt()的局部变量，但是在打印时并没有绑定内存对象。\n",
    "    variable = 200 #因为这里，所以variable就变为了局部变量\n",
    "test_scopt()\n",
    "print(variable)"
   ]
  },
  {
   "cell_type": "code",
   "execution_count": null,
   "metadata": {},
   "outputs": [],
   "source": [
    "from mxnet import init, nd\n",
    "from mxnet.gluon import nn\n",
    "\n",
    "data = nd.arange(10)\n",
    "data *= data.abs() >= 5\n",
    "data"
   ]
  },
  {
   "cell_type": "code",
   "execution_count": null,
   "metadata": {
    "code_folding": []
   },
   "outputs": [],
   "source": [
    "def fab(max):\n",
    "    n, a, b = 0, 0, 1\n",
    "    while n < max:\n",
    "        # 使用 yield\n",
    "        # print b\n",
    "        a, b = b, a + b\n",
    "        n = n + 1\n",
    "        yield b\n",
    "\n",
    "\n",
    "for ii in fab(5):\n",
    "    print(ii)"
   ]
  },
  {
   "cell_type": "code",
   "execution_count": null,
   "metadata": {},
   "outputs": [],
   "source": [
    "class Student(object):\n",
    "    count = 0\n",
    "\n",
    "    def __init__(self, name):\n",
    "        self.name = name\n",
    "        Student.count += 1\n",
    "\n",
    "\n",
    "if Student.count != 0:\n",
    "    print('测试失败!')\n",
    "else:\n",
    "    bart = Student('Bart')\n",
    "    if Student.count != 1:\n",
    "        print('测试失败!')\n",
    "    else:\n",
    "        lisa = Student('Bart')\n",
    "        if Student.count != 2:\n",
    "            print('测试失败!')\n",
    "        else:\n",
    "            print('Students:', Student.count)\n",
    "            print('测试通过!')"
   ]
  },
  {
   "cell_type": "code",
   "execution_count": null,
   "metadata": {},
   "outputs": [],
   "source": [
    "class Student(object):\n",
    "    def __init__(self, name, score):\n",
    "        self.name = name\n",
    "        self.score = score\n",
    "\n",
    "    def get_grade(self):\n",
    "        if self.score >= 90:\n",
    "            return 'A'\n",
    "        elif self.score >= 60:\n",
    "            return 'B'\n",
    "        else:\n",
    "            return 'C'\n",
    "        \n",
    "lisa = Student('Lisa', 99)\n",
    "bart = Student('Bart', 59)\n",
    "print(lisa.name, lisa.get_grade())\n",
    "print(bart.name, bart.get_grade())"
   ]
  },
  {
   "cell_type": "code",
   "execution_count": null,
   "metadata": {},
   "outputs": [],
   "source": [
    "class Student(object):\n",
    "    def __init__(self, name, gender):\n",
    "        self.__name = name\n",
    "        self.__gender = gender\n",
    "        \n",
    "    def get_gender(self):\n",
    "        return self.__gender\n",
    "    \n",
    "    def set_gender(self, gender):\n",
    "        self.__gender = gender\n",
    "\n",
    "\n",
    "        \n",
    "# 测试:\n",
    "bart = Student('Bart', 'male')\n",
    "if bart.get_gender() != 'male':\n",
    "    print('测试失败!')\n",
    "else:\n",
    "    bart.set_gender('female')\n",
    "    if bart.get_gender() != 'female':\n",
    "        print('测试失败!')\n",
    "    else:\n",
    "        print('测试成功!')"
   ]
  },
  {
   "cell_type": "code",
   "execution_count": null,
   "metadata": {},
   "outputs": [],
   "source": [
    "class A:\n",
    "     def add(self, x):\n",
    "         y = x+1\n",
    "         print(y)\n",
    "class B(A):\n",
    "    def add(self, x):\n",
    "        super().add(x)\n",
    "b = B()\n",
    "b.add(2)  # 3"
   ]
  },
  {
   "cell_type": "code",
   "execution_count": null,
   "metadata": {},
   "outputs": [],
   "source": [
    "a = [[[1,2,3],[3,2,1]]]\n",
    "b = [[[4,5,6],[6,5,4]]]\n",
    "ziz = zip(a,b)\n",
    "for i in ziz:\n",
    "    print (i)"
   ]
  },
  {
   "cell_type": "code",
   "execution_count": null,
   "metadata": {},
   "outputs": [],
   "source": [
    "!conda activate base# install jupyterthemes\n",
    "!pip install jupyterthemes"
   ]
  },
  {
   "cell_type": "code",
   "execution_count": null,
   "metadata": {},
   "outputs": [],
   "source": [
    "!jupyter contrib nbextension install --system"
   ]
  },
  {
   "cell_type": "code",
   "execution_count": null,
   "metadata": {},
   "outputs": [],
   "source": [
    "!conda install -c conda-forge jupyter_nbextensions_configurator"
   ]
  },
  {
   "cell_type": "code",
   "execution_count": null,
   "metadata": {},
   "outputs": [],
   "source": [
    "!pip install jupyter_contrib_nbextensions && jupyter contrib nbextension install"
   ]
  },
  {
   "cell_type": "code",
   "execution_count": null,
   "metadata": {},
   "outputs": [],
   "source": [
    "!pip install jupyter_contrib_nbextensions && jupyter contrib nbextension install --user"
   ]
  },
  {
   "cell_type": "code",
   "execution_count": null,
   "metadata": {},
   "outputs": [],
   "source": [
    "!pip install jupyter_nbextensions_configurator"
   ]
  },
  {
   "cell_type": "code",
   "execution_count": null,
   "metadata": {},
   "outputs": [],
   "source": [
    "!python -m pip install --upgrade pip"
   ]
  },
  {
   "cell_type": "code",
   "execution_count": null,
   "metadata": {},
   "outputs": [],
   "source": [
    "%matplotlib inline\n",
    "from IPython import display\n",
    "from matplotlib import pyplot as plt\n",
    "from mxnet import autograd, nd\n",
    "import random\n",
    "w = nd.random.normal(scale=0.01, shape=(2, 1))\n",
    "b = nd.zeros(shape=(1,))\n",
    "c = nd.zeros(shape=(2,))\n",
    "#w = 10\n",
    "#b = 2\n",
    "#c = 4\n",
    "\n",
    "#print('原始',w,b,c)\n",
    "def sgd(params): # 本函数已保存在d2lzh包中方便以后使用\n",
    "    pa = []\n",
    "    for param in params:\n",
    "        param = param + 10\n",
    "        pa.append(param)\n",
    "        print(pa)\n",
    "    return pa\n",
    "list1 = [1,2,3]       \n",
    "\n",
    "list2 = sgd(list1)\n",
    "\n",
    "print(list2)\n",
    "        \n"
   ]
  },
  {
   "cell_type": "code",
   "execution_count": null,
   "metadata": {},
   "outputs": [],
   "source": [
    "def sgd(params):# 本函数已保存在d2lzh包中方便以后使用\n",
    "    n = 1\n",
    "    for param in params:\n",
    "        print(n,param)\n",
    "        param = param + 10\n",
    "        print('函数中:',param)\n",
    "        n += 1\n",
    "list1 = [1,2,3]       \n",
    "list2 = sgd(list1)\n",
    "\n",
    "print(list2)"
   ]
  },
  {
   "cell_type": "code",
   "execution_count": null,
   "metadata": {},
   "outputs": [],
   "source": []
  }
 ],
 "metadata": {
  "hide_input": false,
  "kernelspec": {
   "display_name": "Python 3",
   "language": "python",
   "name": "python3"
  },
  "language_info": {
   "codemirror_mode": {
    "name": "ipython",
    "version": 3
   },
   "file_extension": ".py",
   "mimetype": "text/x-python",
   "name": "python",
   "nbconvert_exporter": "python",
   "pygments_lexer": "ipython3",
   "version": "3.6.8"
  },
  "toc": {
   "base_numbering": 1,
   "nav_menu": {},
   "number_sections": true,
   "sideBar": true,
   "skip_h1_title": false,
   "title_cell": "Table of Contents",
   "title_sidebar": "Contents",
   "toc_cell": false,
   "toc_position": {},
   "toc_section_display": true,
   "toc_window_display": false
  }
 },
 "nbformat": 4,
 "nbformat_minor": 2
}

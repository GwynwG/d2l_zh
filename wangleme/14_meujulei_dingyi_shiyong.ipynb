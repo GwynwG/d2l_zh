{
 "cells": [
  {
   "cell_type": "markdown",
   "metadata": {},
   "source": [
    "# Python枚举类定义和使用\n",
    "\n",
    "在某些情况下，一个类的对象是有限且固定的，比如季节类，它只有 4 个对象；再比如行星类，目前只有 8 个对象。这种实例有限且固定的类，在 Python 中被称为枚举类。\n",
    "\n",
    "<br p >\n",
    "\n",
    "程序有两种方式来定义枚举类：\n",
    "\n",
    "1直接使用 Enum 列出多个枚举值来创建枚举类。\n",
    "\n",
    "2通过继承 Enum 基类来派生枚举类。\n",
    "\n",
    "<br p >\n",
    "\n",
    "如下程序示范了直接使用 Enum 列出多个枚举值来创建枚举类："
   ]
  },
  {
   "cell_type": "code",
   "execution_count": 1,
   "metadata": {},
   "outputs": [],
   "source": [
    "import enum\n",
    "# 定义Season枚举类\n",
    "Season = enum.Enum('Season', ('SPRING', 'SUMMER', 'FALL', 'WINTER'))"
   ]
  },
  {
   "cell_type": "markdown",
   "metadata": {},
   "source": [
    "上面程序使用 Enum() 函数（就是 Enum 的构造方法）来创建枚举类，该构造方法的第一个参数是枚举类的类名；第二个参数是一个元组，用于列出所有枚举值。\n",
    "\n",
    "在定义了上面的 Season 枚举类之后，程序可直接通过枚举值进行前问，这些枚举值都是该枚举的成员，每个成员都有 name、value 两个属性，其中 name 属性值为该枚举值的变量名，value 代表该枚举值的序号（序号通常从 1 开始）。\n",
    "\n",
    "例如，如下代码测试了枚举成员的用法："
   ]
  },
  {
   "cell_type": "code",
   "execution_count": 3,
   "metadata": {},
   "outputs": [
    {
     "name": "stdout",
     "output_type": "stream",
     "text": [
      "Season.SPRING\n",
      "SPRING\n",
      "1\n"
     ]
    }
   ],
   "source": [
    "# 直接访问指定枚举\n",
    "print(Season.SPRING)\n",
    "# 访问枚举成员的变量名\n",
    "print(Season.SPRING.name)\n",
    "# 访问枚举成员的值\n",
    "print(Season.SPRING.value)"
   ]
  },
  {
   "cell_type": "markdown",
   "metadata": {},
   "source": [
    " 程序除可直接使用枚举之外，还可通过枚举变量名或枚举值来访问指定枚举对象。例如如下代码："
   ]
  },
  {
   "cell_type": "code",
   "execution_count": 4,
   "metadata": {},
   "outputs": [
    {
     "name": "stdout",
     "output_type": "stream",
     "text": [
      "Season.SUMMER\n",
      "Season.FALL\n"
     ]
    }
   ],
   "source": [
    "# 根据枚举变量名访问枚举对象\n",
    "print(Season['SUMMER']) # Season.SUMMER\n",
    "# 根据枚举值访问枚举对象\n",
    "print(Season(3)) # Season.FALL"
   ]
  },
  {
   "cell_type": "markdown",
   "metadata": {},
   "source": [
    "此外，Python 还为枚举提供了一个\\_\\_members__ 属性，该属性返回一个 dict 字典，字典包含了该枚举的所有枚举实例。程序可通过遍历 \\_\\_members__ 属性来访问枚举的所有实例。例如如下代码："
   ]
  },
  {
   "cell_type": "code",
   "execution_count": 5,
   "metadata": {},
   "outputs": [
    {
     "name": "stdout",
     "output_type": "stream",
     "text": [
      "SPRING => Season.SPRING , 1\n",
      "SUMMER => Season.SUMMER , 2\n",
      "FALL => Season.FALL , 3\n",
      "WINTER => Season.WINTER , 4\n"
     ]
    }
   ],
   "source": [
    "# 遍历Season枚举的所有成员\n",
    "for name, member in Season.__members__.items():\n",
    "    print(name, '=>', member, ',', member.value)"
   ]
  },
  {
   "cell_type": "markdown",
   "metadata": {},
   "source": [
    "如果要定义更复杂的枚举，则可通过继承 Enum 来派生枚举类，在这种方式下程序就可以为枚举额外定义方法了。例如如下程序："
   ]
  },
  {
   "cell_type": "code",
   "execution_count": 6,
   "metadata": {},
   "outputs": [
    {
     "name": "stdout",
     "output_type": "stream",
     "text": [
      "Orientation.SOUTH\n",
      "南\n",
      "Orientation.WEST\n",
      "Orientation.SOUTH\n",
      "这是一个代表方向【东】的枚举\n",
      "EAST => Orientation.EAST , 东\n",
      "SOUTH => Orientation.SOUTH , 南\n",
      "WEST => Orientation.WEST , 西\n",
      "NORTH => Orientation.NORTH , 北\n"
     ]
    }
   ],
   "source": [
    "import enum\n",
    "class Orientation(enum.Enum):\n",
    "    # 为序列值指定value值\n",
    "    EAST = '东'\n",
    "    SOUTH = '南'\n",
    "    WEST = '西'\n",
    "    NORTH = '北'\n",
    "    def info(self):\n",
    "        print('这是一个代表方向【%s】的枚举' % self.value)\n",
    "print(Orientation.SOUTH)\n",
    "print(Orientation.SOUTH.value)\n",
    "# 通过枚举变量名访问枚举\n",
    "print(Orientation['WEST'])\n",
    "# 通过枚举值来访问枚举\n",
    "print(Orientation('南'))\n",
    "# 调用枚举的info()方法\n",
    "Orientation.EAST.info()\n",
    "# 遍历Orientation枚举的所有成员\n",
    "for name, member in Orientation.__members__.items():\n",
    "    print(name, '=>', member, ',', member.value)"
   ]
  },
  {
   "cell_type": "markdown",
   "metadata": {},
   "source": [
    "上面程序通过继承 Enum 派生了 Orientation 枚举类，通过这种方式派生的枚举类既可额外定义方法，如上面的 info() 方法所示，也可为枚举指定 value（value 的值默认是 1、2、3、…）。\n",
    "\n",
    "虽然此时 Orientation 枚举的 value 是由类型，但该枚举同样可通过 value 来访问特定枚举，如上面程序中的 Orientation('南')，这是完全允许的。"
   ]
  },
  {
   "cell_type": "markdown",
   "metadata": {},
   "source": [
    "### 枚举的构造器\n",
    "\n",
    "枚举也是类，因此枚举也可以定义构造器。为枚举定义构造器之后，在定义枚举实例时必须为构造器参数设置值。例如如下程序："
   ]
  },
  {
   "cell_type": "code",
   "execution_count": 7,
   "metadata": {},
   "outputs": [
    {
     "name": "stdout",
     "output_type": "stream",
     "text": [
      "FEMALE的name: FEMALE\n",
      "FEMALE的value: ('女', '柔顺之美')\n",
      "FEMALE的cn_name: 女\n",
      "FEMALE的desc: 柔顺之美\n"
     ]
    }
   ],
   "source": [
    "import enum\n",
    "class Gender(enum.Enum):\n",
    "    MALE = '男', '阳刚之力'\n",
    "    FEMALE = '女', '柔顺之美'\n",
    "    def __init__(self, cn_name, desc):\n",
    "        self._cn_name = cn_name\n",
    "        self._desc = desc\n",
    "    @property\n",
    "    def desc(self):\n",
    "        return self._desc\n",
    "    @property\n",
    "    def cn_name(self):\n",
    "        return self._cn_name\n",
    "# 访问FEMALE的name\n",
    "print('FEMALE的name:', Gender.FEMALE.name)\n",
    "# 访问FEMALE的value\n",
    "print('FEMALE的value:', Gender.FEMALE.value)\n",
    "# 访问自定义的cn_name属性\n",
    "print('FEMALE的cn_name:', Gender.FEMALE.cn_name)\n",
    "# 访问自定义的desc属性\n",
    "print('FEMALE的desc:', Gender.FEMALE.desc)"
   ]
  },
  {
   "cell_type": "markdown",
   "metadata": {},
   "source": [
    "上面程序定义了 Gender 枚举类，并为它定义了一个构造器，调用该构造器需要传入 cn_name 和 desc 两个参数，因此程序使用如下代码来定义 Gender 的枚举值。\n",
    "\n",
    "上面代码为 MALE 枚举指定的 value 是‘男’和‘阳刚之力’这两个字符串，其实它们会被自动封装成元组后传给 MALE 的 value 属性；而且此处传入的‘男’和‘阳刚之力’ 这两个参数值正好分别传给 cnname 和 desc 两个参数。简单来说，枚举的构造器需要几个参数，此处就必须指定几个值。"
   ]
  },
  {
   "cell_type": "code",
   "execution_count": null,
   "metadata": {},
   "outputs": [],
   "source": []
  }
 ],
 "metadata": {
  "kernelspec": {
   "display_name": "Python 3",
   "language": "python",
   "name": "python3"
  },
  "language_info": {
   "codemirror_mode": {
    "name": "ipython",
    "version": 3
   },
   "file_extension": ".py",
   "mimetype": "text/x-python",
   "name": "python",
   "nbconvert_exporter": "python",
   "pygments_lexer": "ipython3",
   "version": "3.6.8"
  }
 },
 "nbformat": 4,
 "nbformat_minor": 2
}

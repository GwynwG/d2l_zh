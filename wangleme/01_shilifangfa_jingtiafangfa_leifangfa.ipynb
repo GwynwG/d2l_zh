{
 "cells": [
  {
   "cell_type": "markdown",
   "metadata": {},
   "source": [
    "# Python类实例方法\n",
    "\n",
    "通常情况下，在类中定义的方法默认都是实例方法。前面章节中，我们已经定义了不只一个实例方法。不仅如此，类的构造方法理论上也属于实例方法，只不过它比较特殊。\n",
    "\n",
    "例如："
   ]
  },
  {
   "cell_type": "code",
   "execution_count": 1,
   "metadata": {},
   "outputs": [],
   "source": [
    "class Person :\n",
    "    #类构造方法，也属于实例方法\n",
    "    def __init__(self, name = 'Charlie', age=8):\n",
    "        self.name = name\n",
    "        self.age = age\n",
    "    # 下面定义了一个say实例方法\n",
    "    def say(self, content):\n",
    "        print(content)"
   ]
  },
  {
   "cell_type": "markdown",
   "metadata": {},
   "source": [
    "实例方法最大的特点就是，### 它最少也要包含一个 self 参数 ###，用于绑定调用此方法的实例对象。实例方法通常会用类对象直接调用，当然也可以用类名调用，例如："
   ]
  },
  {
   "cell_type": "code",
   "execution_count": 5,
   "metadata": {},
   "outputs": [
    {
     "name": "stdout",
     "output_type": "stream",
     "text": [
      "类对象调用实例方法\n",
      "类名调用实例方法\n"
     ]
    }
   ],
   "source": [
    "#创建一个类对象\n",
    "person = Person()\n",
    "#类对象调用实例方法\n",
    "person.say(\"类对象调用实例方法\")\n",
    "#类名调用实例方法，需手动给 self 参数传值\n",
    "Person.say(person,\"类名调用实例方法\")"
   ]
  },
  {
   "cell_type": "markdown",
   "metadata": {},
   "source": [
    "但要提醒大家的是，Python 的类在很大程度上可看做是一个独立的空间（称为类命名空间），当程序在类体中定义变量、方法时，与前面介绍的定义变量、定义函数其实并没有太大的不同。对比如下代码："
   ]
  },
  {
   "cell_type": "code",
   "execution_count": 6,
   "metadata": {},
   "outputs": [
    {
     "name": "stdout",
     "output_type": "stream",
     "text": [
      "全局空间的foo方法\n",
      "20\n",
      "Bird空间的foo方法\n",
      "200\n"
     ]
    }
   ],
   "source": [
    "# 定义全局空间的foo函数\n",
    "def foo ():\n",
    "    print(\"全局空间的foo方法\")\n",
    "# 全局空间的bar变量\n",
    "bar = 20\n",
    "class Bird:\n",
    "    # 定义Bird空间的foo函数\n",
    "    def foo():\n",
    "        print(\"Bird空间的foo方法\")\n",
    "    # 定义Bird空间的bar变量\n",
    "    bar = 200\n",
    "# 调用全局空间的函数和变量\n",
    "foo()\n",
    "print(bar)\n",
    "# 调用Bird空间的函数和变量\n",
    "Bird.foo()\n",
    "print(Bird.bar)"
   ]
  },
  {
   "cell_type": "markdown",
   "metadata": {},
   "source": [
    "上面代码在全局空间和 Bird 类（Bird 空间）中分别定义了 foo() 函数和 bar 变量，从定义它们的代码来看，几乎没有任何区别，只是在 Bird 类中定义它们时需要缩进。\n",
    "\n",
    "接下来程序在调用 Bird 空间内的 bar 变量和 foo() 函数（方法）时，只要添加 Bird. 前缀即可，这说明完全可以通过 Bird 类来调用 foo() 函数（方法）。这就是类调用实例方法的证明。\n",
    "\n",
    "现在问题来了，如果使用类调用实例方法，那么该方法的第一个参数（self）怎么自动绑定呢？例如如下程序："
   ]
  },
  {
   "cell_type": "code",
   "execution_count": 7,
   "metadata": {},
   "outputs": [
    {
     "ename": "TypeError",
     "evalue": "walk() missing 1 required positional argument: 'self'",
     "output_type": "error",
     "traceback": [
      "\u001b[1;31m---------------------------------------------------------------------------\u001b[0m",
      "\u001b[1;31mTypeError\u001b[0m                                 Traceback (most recent call last)",
      "\u001b[1;32m<ipython-input-7-41f13284dd46>\u001b[0m in \u001b[0;36m<module>\u001b[1;34m\u001b[0m\n\u001b[0;32m      3\u001b[0m         \u001b[0mprint\u001b[0m\u001b[1;33m(\u001b[0m\u001b[0mself\u001b[0m\u001b[1;33m,\u001b[0m \u001b[1;34m'正在慢慢地走'\u001b[0m\u001b[1;33m)\u001b[0m\u001b[1;33m\u001b[0m\u001b[1;33m\u001b[0m\u001b[0m\n\u001b[0;32m      4\u001b[0m \u001b[1;31m# 通过类调用实例方法\u001b[0m\u001b[1;33m\u001b[0m\u001b[1;33m\u001b[0m\u001b[1;33m\u001b[0m\u001b[0m\n\u001b[1;32m----> 5\u001b[1;33m \u001b[0mUser\u001b[0m\u001b[1;33m.\u001b[0m\u001b[0mwalk\u001b[0m\u001b[1;33m(\u001b[0m\u001b[1;33m)\u001b[0m\u001b[1;33m\u001b[0m\u001b[1;33m\u001b[0m\u001b[0m\n\u001b[0m\u001b[0;32m      6\u001b[0m \u001b[1;31m#运行上面代码，程序会报出如下错误：\u001b[0m\u001b[1;33m\u001b[0m\u001b[1;33m\u001b[0m\u001b[1;33m\u001b[0m\u001b[0m\n\u001b[0;32m      7\u001b[0m \u001b[1;31m#TypeError: walk() missing 1 required positional argument:'self'\u001b[0m\u001b[1;33m\u001b[0m\u001b[1;33m\u001b[0m\u001b[1;33m\u001b[0m\u001b[0m\n",
      "\u001b[1;31mTypeError\u001b[0m: walk() missing 1 required positional argument: 'self'"
     ]
    }
   ],
   "source": [
    "class User:\n",
    "    def walk (self):\n",
    "        print(self, '正在慢慢地走')\n",
    "# 通过类调用实例方法\n",
    "User.walk()\n",
    "#运行上面代码，程序会报出如下错误：\n",
    "#TypeError: walk() missing 1 required positional argument:'self'"
   ]
  },
  {
   "cell_type": "markdown",
   "metadata": {},
   "source": [
    "请看程序最后一行代码，调用 walk() 方法缺少传入的 self 参数，所以导致程序出错。这说明在使用类调用实例方法时，Python 不会自动为第一个参数绑定调用者。实际上也没法自动绑定，因此实例方法的调用者是类本身，而不是对象。\n",
    "\n",
    "如果程序依然希望使用类来调用实例方法，则必须手动为方法的第一个参数传入参数值。例如，将上面的最后一行代码改为如下形式："
   ]
  },
  {
   "cell_type": "code",
   "execution_count": 9,
   "metadata": {},
   "outputs": [
    {
     "name": "stdout",
     "output_type": "stream",
     "text": [
      "<__main__.User object at 0x0000013108306FD0> 正在慢慢地走\n"
     ]
    }
   ],
   "source": [
    "u = User()\n",
    "# 显式为方法的第一个参数绑定参数值\n",
    "User.walk(u)"
   ]
  },
  {
   "cell_type": "markdown",
   "metadata": {},
   "source": [
    "此代码显式地为 walk() 方法的第一个参数绑定了参数值，这样的调用效果完全等同于执行 u.walk()。\n",
    "\n",
    "实际上，当通过 User 类调用 walk() 实例方法时，Python 只要求手动为第一个参数绑定参数值，并不要求必须绑定 User 对象，因此也可使用如下代码进行调用："
   ]
  },
  {
   "cell_type": "code",
   "execution_count": 17,
   "metadata": {},
   "outputs": [
    {
     "name": "stdout",
     "output_type": "stream",
     "text": [
      "fkit 正在慢慢地走\n"
     ]
    }
   ],
   "source": [
    "# 显式为方法的第一个参数绑定fkit字符串参数值\n",
    "User.walk('fkit')\n",
    "#如果按上面方式进行绑定，那么 'fkit' 字符串就会被传给 walk() 方法的第一个参数 self。因此，运行上面代码，将会看到如下输出结果："
   ]
  },
  {
   "cell_type": "markdown",
   "metadata": {},
   "source": [
    "### 总结\n",
    "Python 的类可以调用实例方法，但使用类调用实例方法时，Python 不会自动为方法的第一个参数 self 绑定参数值；程序必须显式地为第一个参数 self 传参，这种方式调用的方法被称为“未绑定方法”。"
   ]
  },
  {
   "cell_type": "markdown",
   "metadata": {},
   "source": [
    "# Python类方法\n",
    "Python 类方法和实例方法相似，它最少也要包含一个参数，只不过，类方法中通常将其命名为 cls，且 Python 会自动将类本身绑定给 cls 参数（而不是类对象）。因此，在调用类方法时，无需显式为 cls 参数传参。\n",
    "\n",
    "和 self 一样，cls 参数的命名也不是规定的（可以随意命名），只是 Python 程序员约定俗称的习惯而已。\n",
    "\n",
    "除此之外，和实例方法最大的不同在于，类方法需要使用＠classmethod进行修饰，例如："
   ]
  },
  {
   "cell_type": "code",
   "execution_count": 32,
   "metadata": {},
   "outputs": [],
   "source": [
    "class Bird:\n",
    "    # classmethod修饰的方法是类方法\n",
    "    @classmethod\n",
    "    def fly (cls):\n",
    "        print('类方法fly: ', cls)"
   ]
  },
  {
   "cell_type": "markdown",
   "metadata": {},
   "source": [
    "注意，如果没有 ＠classmethod，则 Python 解释器会将 fly() 方法认定为实例方法，而不是类方法。\n",
    "\n",
    "类方法推荐使用类名直接调用，当然也可以使用实例对象来调用（不推荐），例如："
   ]
  },
  {
   "cell_type": "code",
   "execution_count": 41,
   "metadata": {},
   "outputs": [
    {
     "name": "stdout",
     "output_type": "stream",
     "text": [
      "类方法fly:  <class '__main__.Bird'>\n",
      "类方法fly:  <class '__main__.Bird'>\n"
     ]
    }
   ],
   "source": [
    "# 调用类方法，Bird类会自动绑定到第一个参数\n",
    "Bird.fly()  #①\n",
    "b = Bird()\n",
    "# 使用对象调用fly()类方法，其实依然还是使用类调用，\n",
    "# 因此第一个参数依然被自动绑定到Bird类\n",
    "b.fly()  #②\n",
    "#可以看到，不管程序是使用类还是对象调用类方法，Python 都会将类方法的第一个参数绑定到类本身。"
   ]
  },
  {
   "cell_type": "markdown",
   "metadata": {},
   "source": [
    "# Python类静态方法\n",
    "静态方法，其实就是我们学过的函数，和函数唯一的区别是，静态方法定义在类这个空间（类命名空间）中，而函数则定义在程序所在的空间（全局命名空间）中。\n",
    "\n",
    "静态方法没有类似 self、cls 这样的特殊参数，因此 Python 解释器不会对它包含的参数做任何类或对象的绑定，也正是因为如此，此方法中无法调用任何类和对象的属性和方法，静态方法其实和类的关系不大。\n",
    "\n",
    "静态方法需要使用＠staticmethod修饰，例如："
   ]
  },
  {
   "cell_type": "code",
   "execution_count": 49,
   "metadata": {},
   "outputs": [],
   "source": [
    "class Bird:\n",
    "    # staticmethod修饰的方法是静态方法\n",
    "    @staticmethod\n",
    "    def info (p):\n",
    "        print('静态方法info: ', p)"
   ]
  },
  {
   "cell_type": "markdown",
   "metadata": {},
   "source": [
    "静态方法的调用，既可以使用类名，也可以使用类对象，例如："
   ]
  },
  {
   "cell_type": "code",
   "execution_count": 50,
   "metadata": {},
   "outputs": [
    {
     "name": "stdout",
     "output_type": "stream",
     "text": [
      "静态方法info:  使用类名调用\n",
      "静态方法info:  使用类对象调用\n"
     ]
    }
   ],
   "source": [
    "#类名直接调用静态方法\n",
    "Bird.info('使用类名调用')\n",
    "#类对象调用静态方法\n",
    "b = Bird()\n",
    "b.info('使用类对象调用')"
   ]
  },
  {
   "cell_type": "markdown",
   "metadata": {},
   "source": [
    "### 总结\n",
    "在使用 Python 编程时，一般不需要使用类方法或静态方法，程序完全可以使用函数来代替类方法或静态方法。但是在特殊的场景（比如使用工厂模式）下，类方法或静态方法也是不错的选择。至于静态方法和类方法的具体应用场景，后续章节用到时再做详细介绍。"
   ]
  },
  {
   "cell_type": "code",
   "execution_count": null,
   "metadata": {},
   "outputs": [],
   "source": []
  }
 ],
 "metadata": {
  "kernelspec": {
   "display_name": "Python 3",
   "language": "python",
   "name": "python3"
  },
  "language_info": {
   "codemirror_mode": {
    "name": "ipython",
    "version": 3
   },
   "file_extension": ".py",
   "mimetype": "text/x-python",
   "name": "python",
   "nbconvert_exporter": "python",
   "pygments_lexer": "ipython3",
   "version": "3.6.8"
  }
 },
 "nbformat": 4,
 "nbformat_minor": 2
}

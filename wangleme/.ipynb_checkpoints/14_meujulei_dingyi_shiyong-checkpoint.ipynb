{
 "cells": [
  {
   "cell_type": "markdown",
   "metadata": {},
   "source": [
    "# Python枚举类定义和使用\n",
    "\n",
    "在某些情况下，一个类的对象是有限且固定的，比如季节类，它只有 4 个对象；再比如行星类，目前只有 8 个对象。这种实例有限且固定的类，在 Python 中被称为枚举类。\n",
    "\n",
    "<br p >\n",
    "\n",
    "程序有两种方式来定义枚举类：\n",
    "\n",
    "1直接使用 Enum 列出多个枚举值来创建枚举类。\n",
    "\n",
    "2通过继承 Enum 基类来派生枚举类。\n",
    "\n",
    "<br p >\n",
    "\n",
    "如下程序示范了直接使用 Enum 列出多个枚举值来创建枚举类："
   ]
  },
  {
   "cell_type": "code",
   "execution_count": 1,
   "metadata": {},
   "outputs": [],
   "source": [
    "import enum\n",
    "# 定义Season枚举类\n",
    "Season = enum.Enum('Season', ('SPRING', 'SUMMER', 'FALL', 'WINTER'))"
   ]
  },
  {
   "cell_type": "markdown",
   "metadata": {},
   "source": [
    "上面程序使用 Enum() 函数（就是 Enum 的构造方法）来创建枚举类，该构造方法的第一个参数是枚举类的类名；第二个参数是一个元组，用于列出所有枚举值。\n",
    "\n",
    "在定义了上面的 Season 枚举类之后，程序可直接通过枚举值进行前问，这些枚举值都是该枚举的成员，每个成员都有 name、value 两个属性，其中 name 属性值为该枚举值的变量名，value 代表该枚举值的序号（序号通常从 1 开始）。\n",
    "\n",
    "例如，如下代码测试了枚举成员的用法："
   ]
  },
  {
   "cell_type": "code",
   "execution_count": 3,
   "metadata": {},
   "outputs": [
    {
     "name": "stdout",
     "output_type": "stream",
     "text": [
      "Season.SPRING\n",
      "SPRING\n",
      "1\n"
     ]
    }
   ],
   "source": [
    "# 直接访问指定枚举\n",
    "print(Season.SPRING)\n",
    "# 访问枚举成员的变量名\n",
    "print(Season.SPRING.name)\n",
    "# 访问枚举成员的值\n",
    "print(Season.SPRING.value)"
   ]
  },
  {
   "cell_type": "code",
   "execution_count": null,
   "metadata": {},
   "outputs": [],
   "source": []
  }
 ],
 "metadata": {
  "kernelspec": {
   "display_name": "Python 3",
   "language": "python",
   "name": "python3"
  },
  "language_info": {
   "codemirror_mode": {
    "name": "ipython",
    "version": 3
   },
   "file_extension": ".py",
   "mimetype": "text/x-python",
   "name": "python",
   "nbconvert_exporter": "python",
   "pygments_lexer": "ipython3",
   "version": "3.6.8"
  }
 },
 "nbformat": 4,
 "nbformat_minor": 2
}

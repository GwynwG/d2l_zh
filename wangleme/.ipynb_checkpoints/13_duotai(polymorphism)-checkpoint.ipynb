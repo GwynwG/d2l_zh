{
 "cells": [
  {
   "cell_type": "markdown",
   "metadata": {},
   "source": [
    "# 多态\n",
    "\n",
    "在面向对象程序设计中，除了封装和继承特性外，多态也是一个非常重要的特性，本节就带领大家详细了解什么是多态。\n",
    "\n",
    "我们都知道，Python 是弱类型语言，即在使用变量时，无需为其指定具体的数据类型，这就可能出现，同一个变量会赋值不同的类对象，例如："
   ]
  },
  {
   "cell_type": "code",
   "execution_count": 1,
   "metadata": {},
   "outputs": [
    {
     "name": "stdout",
     "output_type": "stream",
     "text": [
      "鸟在飞\n",
      "狗在跑\n"
     ]
    }
   ],
   "source": [
    "class Bird:\n",
    "    def move(self, field):\n",
    "        print('鸟在%s' % field)\n",
    "class Dog:\n",
    "    def move(self, field):\n",
    "        print('狗在%s' % field)\n",
    "a = Bird()\n",
    "a.move(\"飞\")\n",
    "a = Dog()\n",
    "a.move(\"跑\")"
   ]
  },
  {
   "cell_type": "markdown",
   "metadata": {},
   "source": [
    "可以看到，a 可以被先后赋值为 Bird 类和 Dog 类的对象。而在此基础上，发生多态还要满足以下 2 个前提条件：\n",
    "\n",
    "1.继承：多态一定是发生在子类和父类之间；\n",
    "\n",
    "2.重写：子类重写了父类的方法。\n",
    "\n",
    "因此，下面程序是对前面代码的改写："
   ]
  },
  {
   "cell_type": "code",
   "execution_count": 2,
   "metadata": {},
   "outputs": [
    {
     "name": "stdout",
     "output_type": "stream",
     "text": [
      "动物在叫\n",
      "鸟在飞\n",
      "狗在跑\n"
     ]
    }
   ],
   "source": [
    "class Animal:\n",
    "    def move(self,field):\n",
    "        print(\"动物在%s\" % field)\n",
    "class Bird(Animal):\n",
    "    def move(self, field):\n",
    "        print('鸟在%s' % field)\n",
    "class Dog(Animal):\n",
    "    def move(self, field):\n",
    "        print('狗在%s' % field)\n",
    "a = Animal()\n",
    "a.move(\"叫\")\n",
    "a = Bird()\n",
    "a.move(\"飞\")\n",
    "a = Dog()\n",
    "a.move(\"跑\")"
   ]
  },
  {
   "cell_type": "markdown",
   "metadata": {},
   "source": [
    "此程序中，Bird 和 Dog 类都继承自 Animal 类，且都各自重写了父类的 move() 方法。从运行结果可以看出，同一个变量 a 在执行同一个 move() 方法时，由于 x 指向的对象不同，因此实际调用的并不是同一个 move() 方法，这就是多态。\n",
    "\n",
    "换句话说，对于同一个变量，我们只需要知道赋值的是 Animal 类对象，而无需知道它具体是哪个子类对象，就可以放心地使用该变量调用 move() 方法。而具体 move() 方法作用在哪个类对象上，则完全是由运行时此变量的确切类型决定，这就是多态的功能。\n",
    "\n",
    "看到这里，可能有读者感到失望，这个多态有什么用啊？不就是创建对象、调用方法吗？看不出多态有什么优势啊？\n",
    "\n",
    "其实，Python 在多态的基础上，衍生出了一种更灵活的编程机制。假如我们要定义一个 Canvas（画布）类，这个画布类定义一个 draw_pic() 方法，该方法负责绘制各种图形。该 Canvas类的代码如下："
   ]
  },
  {
   "cell_type": "code",
   "execution_count": 3,
   "metadata": {},
   "outputs": [],
   "source": [
    "class Canvas:\n",
    "    def draw_pic(self, shape):\n",
    "        print('--开始绘图--')\n",
    "        shape.draw(self)"
   ]
  },
  {
   "cell_type": "markdown",
   "metadata": {},
   "source": [
    "此程序中，Canvas 类的 draw_pic() 方法需要传入一个 shape 参数，该方法的功能就是调用 shape 参数的 draw() 方法将自己（shape 自身）绘制到画布上。\n",
    "\n",
    "从上面程序来看，Canvas 的 draw_pic() 传入的参数对象只要包含 draw() 方法就行，而至于这个参数对象所属类的其他性质（例如继承自哪个类），Python 是不关心的，这就为编程增加了很大的灵活性。\n",
    "\n",
    "例如，下面程序定义了三个图形类，并为它们都提供了 draw() 方法，这样它们就能以不同的行为绘制在画布上，这就是多态的实际应用。看如下示例程序："
   ]
  },
  {
   "cell_type": "code",
   "execution_count": 4,
   "metadata": {},
   "outputs": [
    {
     "name": "stdout",
     "output_type": "stream",
     "text": [
      "--开始绘图--\n",
      "在<__main__.Canvas object at 0x00000296D86AC3C8>上绘制矩形\n",
      "--开始绘图--\n",
      "在<__main__.Canvas object at 0x00000296D86AC3C8>上绘制三角形\n",
      "--开始绘图--\n",
      "在<__main__.Canvas object at 0x00000296D86AC3C8>上绘制圆形\n"
     ]
    }
   ],
   "source": [
    "class Canvas:\n",
    "    def draw_pic(self, shape):\n",
    "        print('--开始绘图--')\n",
    "        shape.draw(self)\n",
    "class Rectangle:\n",
    "    def draw(self, canvas):\n",
    "        print('在%s上绘制矩形' % canvas)\n",
    "class Triangle:\n",
    "    def draw(self, canvas):\n",
    "        print('在%s上绘制三角形' % canvas)\n",
    "class Circle:\n",
    "    def draw(self, canvas):\n",
    "        print('在%s上绘制圆形' % canvas)\n",
    "c = Canvas()\n",
    "# 传入Rectangle参数，绘制矩形\n",
    "c.draw_pic(Rectangle())\n",
    "# 传入Triangle参数，绘制三角形\n",
    "c.draw_pic(Triangle())\n",
    "# 传入Circle参数，绘制圆形\n",
    "c.draw_pic(Circle())"
   ]
  },
  {
   "cell_type": "markdown",
   "metadata": {},
   "source": [
    "可以看到，在此程序中，当涉及 Canvas 类的 draw_pic() 方法时，为该方法传入的参数对象只要包含 draw() 方法就行，至于传入的对象类型是子类还是其它类，Python 毫不关心。\n",
    "在其它教程中，Python 这种由多态衍生出的更灵活的编程机制，又称为“鸭子模型”或“鸭子类型”。"
   ]
  },
  {
   "cell_type": "code",
   "execution_count": null,
   "metadata": {},
   "outputs": [],
   "source": []
  }
 ],
 "metadata": {
  "kernelspec": {
   "display_name": "Python 3",
   "language": "python",
   "name": "python3"
  },
  "language_info": {
   "codemirror_mode": {
    "name": "ipython",
    "version": 3
   },
   "file_extension": ".py",
   "mimetype": "text/x-python",
   "name": "python",
   "nbconvert_exporter": "python",
   "pygments_lexer": "ipython3",
   "version": "3.6.8"
  }
 },
 "nbformat": 4,
 "nbformat_minor": 2
}

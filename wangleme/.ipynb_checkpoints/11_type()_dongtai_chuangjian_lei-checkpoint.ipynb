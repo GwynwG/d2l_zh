{
 "cells": [
  {
   "cell_type": "markdown",
   "metadata": {},
   "source": [
    "# Python type()函数：动态创建类\n",
    "\n",
    "前面己经提到使用 type() 函数可以查看变量的类型，但如果想使用 type() 直接查看某个类的类型呢？看如下程序："
   ]
  },
  {
   "cell_type": "code",
   "execution_count": 1,
   "metadata": {},
   "outputs": [
    {
     "name": "stdout",
     "output_type": "stream",
     "text": [
      "<class '__main__.Role'>\n",
      "<class 'type'>\n"
     ]
    }
   ],
   "source": [
    "class Role:\n",
    "    pass\n",
    "r = Role()\n",
    "# 查看变量r的类型\n",
    "print(type(r)) # <class '__main__.Role'>\n",
    "# 查看Role类本身的类型\n",
    "print(type(Role)) # <class 'type'>"
   ]
  },
  {
   "cell_type": "markdown",
   "metadata": {},
   "source": [
    "从上面的输出结果可以看到，Role 类本身的类型是 type。这句话有点拗口，怎样理解 Role 类的类型是 type?\n",
    "\n",
    "从 Python 解释器的角度来看，当程序使用 class 定义 Role 类时，也可理解为定义了一个特殊的对象（type 类的对象），并将该对象赋值给 Role 变量。因此，程序使用 class 定义的所有类都是 type 类的实例。\n",
    "\n",
    "实际上 Python 完全允许使用 type() 函数（相当于 type 类的构造器函数）来创建 type 对象，又由于 type 类的实例就是类，因此 Python 可以使用 type() 函数来动态创建类。例如如下程序："
   ]
  },
  {
   "cell_type": "code",
   "execution_count": 2,
   "metadata": {},
   "outputs": [
    {
     "name": "stdout",
     "output_type": "stream",
     "text": [
      "<class '__main__.Dog'>\n",
      "<class 'type'>\n",
      "fn函数\n",
      "6\n"
     ]
    }
   ],
   "source": [
    "def fn(self):\n",
    "    print('fn函数')\n",
    "# 使用type()定义Dog类\n",
    "Dog = type('Dog', (object,), dict(walk=fn, age=6))\n",
    "# 创建Dog对象\n",
    "d = Dog()\n",
    "# 分别查看d、Dog的类型\n",
    "print(type(d))\n",
    "print(type(Dog))\n",
    "d.walk()\n",
    "print(Dog.age)"
   ]
  },
  {
   "cell_type": "markdown",
   "metadata": {},
   "source": [
    "上面第 4 行代码使用 type() 定义了一个 Dog 类。在使用 type() 定义类时可指定三个参数：\n",
    "\n",
    "1.参数一：创建的类名。\n",
    "\n",
    "2.参数二：该类继承的父类集合。由于 Python 支持多继承，因此此处使用元组指定它的多个父类。即使实际只有一个父类，也需要使用元组语法（必须要多一个逗号）。\n",
    "\n",
    "3.参数三：该字典对象为该类绑定的类变量和方法。其中字典的 key 就是类变量或方法名，如果字典的 value 是普通值，那就代表类变量；如果字典的 value 是函数，则代表方法。\n",
    "\n",
    "由此可见，第 4 行代码定义了一个 Dog 类，该类继承了 object 类，还为该类定义了一个 walk() 方法和一个 age 类变量。\n",
    "\n"
   ]
  },
  {
   "cell_type": "markdown",
   "metadata": {},
   "source": [
    "从上面的输出结果可以看出，使用 type() 函数定义的类与直接使用 class 定义的类井没有任何区别。事实上，Python 解释器在执行使用 class 定义的类时，其实依然是使用 type() 函数来创建类的。因此，无论通过哪种方式定义类，程序最终都是创建一个 type 的实例。"
   ]
  },
  {
   "cell_type": "code",
   "execution_count": null,
   "metadata": {},
   "outputs": [],
   "source": []
  }
 ],
 "metadata": {
  "kernelspec": {
   "display_name": "Python 3",
   "language": "python",
   "name": "python3"
  },
  "language_info": {
   "codemirror_mode": {
    "name": "ipython",
    "version": 3
   },
   "file_extension": ".py",
   "mimetype": "text/x-python",
   "name": "python",
   "nbconvert_exporter": "python",
   "pygments_lexer": "ipython3",
   "version": "3.6.8"
  }
 },
 "nbformat": 4,
 "nbformat_minor": 2
}

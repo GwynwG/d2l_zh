{
 "cells": [
  {
   "cell_type": "markdown",
   "metadata": {},
   "source": [
    "# \\_\\_slots__：限制类实例动态添加属性和方法\n",
    "\n",
    "前面介绍了为对象动态添加方法，但是所添加的方法只是对当前对象有效，如果希望为所有实例都添加方法，则可通过为类添加方法来实现。例如如下代码："
   ]
  },
  {
   "cell_type": "code",
   "execution_count": 1,
   "metadata": {},
   "outputs": [
    {
     "name": "stdout",
     "output_type": "stream",
     "text": [
      "Garfield慢慢地走过一片草地\n",
      "Kitty慢慢地走过一片草地\n"
     ]
    }
   ],
   "source": [
    "class Cat:\n",
    "    def __init__(self, name):\n",
    "        self.name = name\n",
    "def walk_func(self):\n",
    "    print('%s慢慢地走过一片草地' % self.name)\n",
    "d1 = Cat('Garfield')\n",
    "d2 = Cat('Kitty')\n",
    "#d1.walk() # AttributeError\n",
    "# 为Cat动态添加walk()方法，该方法的第一个参数会自动绑定\n",
    "Cat.walk = walk_func  # ①\n",
    "# d1、d2调用walk()方法\n",
    "d1.walk()\n",
    "d2.walk()"
   ]
  },
  {
   "cell_type": "markdown",
   "metadata": {},
   "source": [
    "上面程序定义了一个 Cat 类，该 Cat 类只定义了一个构造方法，并未提供任何方法。因此，程序第 8 行代码调用 d1.walk() 方法时会出现异常，Cat 类并没有 walk() 方法。\n",
    "\n",
    "<br />\n",
    "\n",
    "程序中 ① 号代码为 Cat 动态添加了 walk() 方法，为类动态添加方法时不需要使用 MethodType 进行包装，该函数的第一个参数会自动绑定。为 Cat 动态添加 walk() 方法之后，Cat 类的两个实例 d1、d2 都具有了 walk() 方法，因此上面程序中最后两行 d1、d2 都可调用 walk() 方法。\n",
    "\n",
    "<br />\n",
    "\n",
    "Python 的这种动态性固然有其优势，但也给程序带来了一定的隐患，即程序定义好的类，完全有可能在后面被其他程序修改，这就带来了一些不确定性。如果程序要限制为某个类动态添加属性和方法，则可通过 __slots__ 属性来指定。\n",
    "\n",
    "<br />\n",
    "\n",
    "\\_\\_slots__ 属性的值是一个元组，该元组的所有元素列出了该类的实例允许动态添加的所有属性名和方法名（对于 Python 而言，方法相当于属性值为函数的属性）。例如如下程序："
   ]
  },
  {
   "cell_type": "code",
   "execution_count": 3,
   "metadata": {},
   "outputs": [
    {
     "name": "stdout",
     "output_type": "stream",
     "text": [
      "Snoopy正在慢慢地走\n"
     ]
    },
    {
     "ename": "AttributeError",
     "evalue": "'Dog' object has no attribute 'foo'",
     "output_type": "error",
     "traceback": [
      "\u001b[1;31m---------------------------------------------------------------------------\u001b[0m",
      "\u001b[1;31mAttributeError\u001b[0m                            Traceback (most recent call last)",
      "\u001b[1;32m<ipython-input-3-910e81dbe739>\u001b[0m in \u001b[0;36m<module>\u001b[1;34m\u001b[0m\n\u001b[0;32m     11\u001b[0m \u001b[0md\u001b[0m\u001b[1;33m.\u001b[0m\u001b[0mage\u001b[0m \u001b[1;33m=\u001b[0m \u001b[1;36m5\u001b[0m\u001b[1;33m\u001b[0m\u001b[1;33m\u001b[0m\u001b[0m\n\u001b[0;32m     12\u001b[0m \u001b[0md\u001b[0m\u001b[1;33m.\u001b[0m\u001b[0mwalk\u001b[0m\u001b[1;33m(\u001b[0m\u001b[1;33m)\u001b[0m\u001b[1;33m\u001b[0m\u001b[1;33m\u001b[0m\u001b[0m\n\u001b[1;32m---> 13\u001b[1;33m \u001b[0md\u001b[0m\u001b[1;33m.\u001b[0m\u001b[0mfoo\u001b[0m \u001b[1;33m=\u001b[0m \u001b[1;36m30\u001b[0m \u001b[1;31m# AttributeError\u001b[0m\u001b[1;33m\u001b[0m\u001b[1;33m\u001b[0m\u001b[0m\n\u001b[0m",
      "\u001b[1;31mAttributeError\u001b[0m: 'Dog' object has no attribute 'foo'"
     ]
    }
   ],
   "source": [
    "class Dog:\n",
    "    __slots__ = ('walk', 'age', 'name')\n",
    "    def __init__(self, name):\n",
    "        self.name = name\n",
    "    def test():\n",
    "        print('预先定义的test方法')\n",
    "d = Dog('Snoopy')\n",
    "from types import MethodType\n",
    "# 只允许动态为实例添加walk、age、name这3个属性或方法\n",
    "d.walk = MethodType(lambda self: print('%s正在慢慢地走' % self.name), d)\n",
    "d.age = 5\n",
    "d.walk()\n",
    "d.foo = 30 # AttributeError"
   ]
  },
  {
   "cell_type": "markdown",
   "metadata": {},
   "source": [
    "上面程序中第 2 行代码定义了 \\_\\_slots__=('walk','age', 'name')，这意味着程序只允许为 Dog 实例动态添加 walk、age、name 这三个属性或方法。因此上面程序中第 10 行、第 11 行代码为 Dog 对象动态添加 walk() 方法和 age 属性都是允许的。\n",
    "\n",
    "但如果程序尝试为 Dog 对象添加其他额外属性，程序就会引发 AttributeError 错误，如上面最后一行代码所示。："
   ]
  },
  {
   "cell_type": "markdown",
   "metadata": {},
   "source": [
    "需要说明的是，\\_\\_slots__ 属性并不限制通过类来动态添加属性或方法，因此下面代码是合法的："
   ]
  },
  {
   "cell_type": "code",
   "execution_count": 4,
   "metadata": {},
   "outputs": [
    {
     "name": "stdout",
     "output_type": "stream",
     "text": [
      "abc\n"
     ]
    }
   ],
   "source": [
    "# __slots__属性并不限制通过类来动态添加方法\n",
    "Dog.bar = lambda self: print('abc') # AttributeError\n",
    "d.bar()"
   ]
  },
  {
   "cell_type": "markdown",
   "metadata": {},
   "source": [
    "下面代码通过 Dog 类动态添加了 bar() 方法，这样 Dog 对象就可以调用该 bar() 方法了。\n",
    "\n",
    "此外，\\_\\_slots__ 属性指定的限制只对当前类的实例起作用，对该类派生出来的子类是不起作用的。例如如下代码："
   ]
  },
  {
   "cell_type": "code",
   "execution_count": 5,
   "metadata": {},
   "outputs": [
    {
     "name": "stdout",
     "output_type": "stream",
     "text": [
      "99\n"
     ]
    }
   ],
   "source": [
    "class GunDog(Dog):\n",
    "    def __init__(self, name):\n",
    "        super().__init__(name)\n",
    "    pass\n",
    "gd = GunDog('Puppy')\n",
    "# 完全可以为Gundog实例动态添加属性\n",
    "gd.speed = 99\n",
    "print(gd.speed)"
   ]
  },
  {
   "cell_type": "markdown",
   "metadata": {},
   "source": [
    "正如从上面代码所看到的，Dog 的子类 GunDog 的实例完全可以动态添加 speed 属性，这说明 \\_\\_slots__ 属性指定的限制只对当前类起作用。\n",
    "\n",
    "如果要限制子类的实例动态添加属性和方法，则需要在子类中也定义 \\_\\_slots__ 属性，这样，子类的实例允许动态添加属性和方法就是子类的 \\_\\_slots__ 元组加上父类的 \\_\\_slots__ 元组的和。"
   ]
  },
  {
   "cell_type": "code",
   "execution_count": null,
   "metadata": {},
   "outputs": [],
   "source": []
  },
  {
   "cell_type": "code",
   "execution_count": null,
   "metadata": {},
   "outputs": [],
   "source": []
  }
 ],
 "metadata": {
  "kernelspec": {
   "display_name": "Python 3",
   "language": "python",
   "name": "python3"
  },
  "language_info": {
   "codemirror_mode": {
    "name": "ipython",
    "version": 3
   },
   "file_extension": ".py",
   "mimetype": "text/x-python",
   "name": "python",
   "nbconvert_exporter": "python",
   "pygments_lexer": "ipython3",
   "version": "3.6.8"
  }
 },
 "nbformat": 4,
 "nbformat_minor": 2
}

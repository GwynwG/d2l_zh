{
 "cells": [
  {
   "cell_type": "markdown",
   "metadata": {},
   "source": [
    "# Python self用法详解\n",
    "\n",
    "在学习如何定义类的过程中，无论是显式创建类的构造方法，还是向类中添加实例方法，都要求将 self 参数作为方法的第一个参数。例如，定义如下 Dog 类："
   ]
  },
  {
   "cell_type": "code",
   "execution_count": 1,
   "metadata": {},
   "outputs": [],
   "source": [
    "class Dog:\n",
    "    def __init__(self):\n",
    "        print(\"正在执行构造方法\")\n",
    "    # 定义一个jump()实例方法\n",
    "    def jump(self):\n",
    "        print(\"正在执行jump方法\")"
   ]
  },
  {
   "cell_type": "markdown",
   "metadata": {},
   "source": [
    "Python 要求，类方法（构造方法和实例方法）中至少要包含一个参数，但并没有规定此参数的名称（完全可以叫任意参数名），之所以将类方法的第一个参数命名为 self，只是 Python 程序员约定俗成的一种习惯，这会使程序具有更好的可读性。\n",
    "\n",
    "那么，作为类方法的第一个参数，self 参数的具体作用是什么呢？打个比方，如果把类比作造房子的图纸，那么对类实例化后的对象才是真正可以住的房子，根据一张图纸，我们可以设计出成千上万的房子，虽然每个房子长相相似，但它们都有各自的主人。而类方法的 self 参数，就相当于每个房子的门钥匙，它可以保证，每个房子的主人仅能进入自己的房子。"
   ]
  },
  {
   "cell_type": "markdown",
   "metadata": {},
   "source": [
    "对于构造方法来说，self 参数（第一个参数）代表该构造方法正在初始化的对象。\n",
    "\n",
    "因此，程序在调用实例方法和构造方法时，不需要为第一个参数传值。例如，更改前面的 Dog 类，如下所示："
   ]
  },
  {
   "cell_type": "code",
   "execution_count": 3,
   "metadata": {},
   "outputs": [
    {
     "name": "stdout",
     "output_type": "stream",
     "text": [
      "<__main__.Dog object at 0x000001CCB8E8A8D0> 在调用构造方法\n",
      "<__main__.Dog object at 0x000001CCB8E8A8D0> 正在执行run方法\n",
      "<__main__.Dog object at 0x000001CCB8E8A8D0> 正在执行jump方法\n",
      "<__main__.Dog object at 0x000001CCB8E8AAC8> 在调用构造方法\n",
      "<__main__.Dog object at 0x000001CCB8E8AAC8> 正在执行run方法\n",
      "<__main__.Dog object at 0x000001CCB8E8AAC8> 正在执行jump方法\n"
     ]
    }
   ],
   "source": [
    "class Dog:\n",
    "    def __init__(self):\n",
    "        print(self,\"在调用构造方法\")\n",
    "    # 定义一个jump()方法\n",
    "    def jump(self):\n",
    "        print(self,\"正在执行jump方法\")\n",
    "    # 定义一个run()方法，run()方法需要借助jump()方法\n",
    "    def run(self):\n",
    "        print(self,\"正在执行run方法\")\n",
    "        # 使用self参数引用调用run()方法的对象\n",
    "        self.jump()\n",
    "dog1 = Dog()\n",
    "dog1.run()\n",
    "dog2 = Dog()\n",
    "dog2.run()"
   ]
  },
  {
   "cell_type": "markdown",
   "metadata": {},
   "source": [
    "上面程序中值得一提的是，当一个 Dog 对象调用 run() 方法时，run() 方法需要依赖该对象自己的 jump() 方法。在现实世界里，对象的一个方法依赖另一个方法的情形很常见，例如，吃饭方法依赖拿筷子方法，写程序方法依赖敲键盘方法，这种依赖都是同一个对象的两个方法之间的依赖。\n",
    "\n",
    "注意，当 Python 对象的一个方法调用另一个方法时，不可以省略 self。也就是说，将上面的 run()方法改为如下形式是不正确的："
   ]
  },
  {
   "cell_type": "code",
   "execution_count": 4,
   "metadata": {},
   "outputs": [],
   "source": [
    "# 定义一个run()方法，run()方法需要借助jump()方法\n",
    "def run():\n",
    "    #省略self，代码会报错\n",
    "    self.jump()\n",
    "    print(\"正在执行run方法\")"
   ]
  },
  {
   "cell_type": "markdown",
   "metadata": {},
   "source": [
    "再比如，分析如下代码："
   ]
  },
  {
   "cell_type": "code",
   "execution_count": 5,
   "metadata": {},
   "outputs": [
    {
     "name": "stdout",
     "output_type": "stream",
     "text": [
      "6\n"
     ]
    }
   ],
   "source": [
    "class InConstructor :\n",
    "    def __init__(self) :\n",
    "        # 在构造方法里定义一个foo变量（局部变量）\n",
    "        foo = 0\n",
    "        # 使用self代表该构造方法正在初始化的对象\n",
    "        # 下面的代码将会把该构造方法正在初始化的对象的foo实例变量设为6\n",
    "        self.foo = 6\n",
    "# 所有使用InConstructor创建的对象的foo实例变量将被设为6\n",
    "print(InConstructor().foo) # 输出6"
   ]
  },
  {
   "cell_type": "markdown",
   "metadata": {},
   "source": [
    "在 InConstructor 的构造方法中，self 参数总是引用该构造方法正在初始化的对象。程序中将正在执行初始化的 InConstructor 对象的 foo 实例变量设为 6，这意味着该构造方法返回的所有对象的 foo 实例变量都等于 6。\n",
    "\n",
    "需要说明的是，自动绑定的 self 参数并不依赖具体的调用方式，不管是以方法调用还是以函数调用的方式执行它，self 参数一样可以自动绑定。例如如下程序："
   ]
  },
  {
   "cell_type": "code",
   "execution_count": 6,
   "metadata": {},
   "outputs": [
    {
     "name": "stdout",
     "output_type": "stream",
     "text": [
      "self参数:  <__main__.User object at 0x000001CCB8E8A6A0>\n",
      "self参数:  <__main__.User object at 0x000001CCB8E8A6A0>\n"
     ]
    }
   ],
   "source": [
    "class User:\n",
    "    def test(self):\n",
    "        print('self参数: ', self) \n",
    "u = User()\n",
    "# 以方法形式调用test()方法\n",
    "u.test() # <__main__.User object at 0x00000000021F8240>\n",
    "# 将User对象的test方法赋值给foo变量\n",
    "foo = u.test\n",
    "# 通过foo变量（函数形式）调用test()方法。\n",
    "foo() # <__main__.User object at 0x00000000021F8240>"
   ]
  },
  {
   "cell_type": "markdown",
   "metadata": {},
   "source": [
    "上面程序中，第 6 行代码以方法形式调用 User 对象的 test() 方法，此时方法调用者当然会自动绑定到方法的第一个参数（self 参数）；程序中第 10 行代码以函数形式调用 User 对象的 test() 方法，看上去没有调用者，但程序依然会把实际调用者绑定到方法的第一个参数，因此输出结果完全相同。\n",
    "\n",
    "当 self 参数作为对象的默认引用时，程序可以像访问普通变量一样来访问这个 self 参数，甚至可以把 self 参数当成实例方法的返回值。看下面程序："
   ]
  },
  {
   "cell_type": "code",
   "execution_count": 8,
   "metadata": {},
   "outputs": [
    {
     "name": "stdout",
     "output_type": "stream",
     "text": [
      "rs的age属性值是: 3\n"
     ]
    }
   ],
   "source": [
    "class ReturnSelf :\n",
    "    def grow(self):\n",
    "        if hasattr(self, 'age'):\n",
    "            self.age += 1\n",
    "        else:\n",
    "            self.age = 1\n",
    "        # return self返回调用该方法的对象\n",
    "        return self\n",
    "rs = ReturnSelf()\n",
    "# 可以连续调用同一个方法\n",
    "rs.grow().grow().grow()\n",
    "print(\"rs的age属性值是:\", rs.age)"
   ]
  },
  {
   "cell_type": "markdown",
   "metadata": {},
   "source": [
    "可以看出，如果在某个方法中把 self 参数作为返回值，则可以多次连续调用同一个方法，从而使得代码更加简洁。但是这种把 self 参数作为返回值的方法可能会造成实际意义的模糊，例如上面的 grow 方法用于表示对象的生长，即 age 属性的值加 1，实际上不应该有返回值。"
   ]
  },
  {
   "cell_type": "code",
   "execution_count": null,
   "metadata": {},
   "outputs": [],
   "source": []
  }
 ],
 "metadata": {
  "kernelspec": {
   "display_name": "Python 3",
   "language": "python",
   "name": "python3"
  },
  "language_info": {
   "codemirror_mode": {
    "name": "ipython",
    "version": 3
   },
   "file_extension": ".py",
   "mimetype": "text/x-python",
   "name": "python",
   "nbconvert_exporter": "python",
   "pygments_lexer": "ipython3",
   "version": "3.6.8"
  }
 },
 "nbformat": 4,
 "nbformat_minor": 2
}

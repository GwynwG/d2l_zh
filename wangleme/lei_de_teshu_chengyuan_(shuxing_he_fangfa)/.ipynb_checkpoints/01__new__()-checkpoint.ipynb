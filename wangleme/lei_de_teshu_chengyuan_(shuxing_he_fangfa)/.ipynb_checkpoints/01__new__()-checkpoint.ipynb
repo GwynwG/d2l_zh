{
 "cells": [
  {
   "cell_type": "markdown",
   "metadata": {},
   "source": [
    "# Python类特殊成员（属性和方法）\n",
    "\n",
    "在 Python 类中有些方法名、属性名的前后都添加了双下画线，这种方法、属性通常都属于 Python 的特殊方法和特殊属性，开发者可以通过重写这些方法或直接调用这些方法来实现特殊的功能。\n",
    "\n",
    "最常见的特殊方法就是前面介绍的构造方法：__init__，开发者可以通过重写类中的 __init__ 方法来实现自己的初始化逻辑。\n",
    "\n",
    "Python 是一门尽量简单的语言，它不像某些语言（如 Java）需要让类实现接口，并实现接口中的方法。Python 采用的是一种“约定”的机制，Python 按照约定，以特殊名字的方法、属性未提供特殊的功能。\n",
    "\n",
    "Python 类中的特殊方法、特殊属性有些需要开发者重写，有些则可以直接调用，掌握这些常见的特殊方法、特殊属性也是非常重要的。"
   ]
  },
  {
   "cell_type": "markdown",
   "metadata": {},
   "source": [
    "\\_\\_new__() 是一种负责创建类实例的静态方法，它无需使用 staticmethod 装饰器修饰，且该方法会优先 \\_\\_init__() 初始化方法被调用。\n",
    "\n",
    "一般情况下，覆写 \\_\\_new__() 的实现将会使用合适的参数调用其超类的 super().\\_\\_new__()，并在返回之前修改实例。例如："
   ]
  },
  {
   "cell_type": "code",
   "execution_count": 1,
   "metadata": {},
   "outputs": [
    {
     "name": "stdout",
     "output_type": "stream",
     "text": [
      "__new__(): <class '__main__.demoClass'> ('abc',) {}\n",
      "__init__(): <__main__.demoClass object at 0x000001C1741BBE80> abc\n",
      "__new__(): <class '__main__.demoClass'> ('xyz',) {}\n",
      "__init__(): <__main__.demoClass object at 0x000001C1741BBF98> xyz\n",
      "0 2\n",
      "1 2\n"
     ]
    }
   ],
   "source": [
    "class demoClass:\n",
    "    instances_created = 0\n",
    "    def __new__(cls,*args,**kwargs):\n",
    "        print(\"__new__():\",cls,args,kwargs)\n",
    "        instance = super().__new__(cls)\n",
    "        instance.number = cls.instances_created\n",
    "        cls.instances_created += 1\n",
    "        return instance\n",
    "    def __init__(self,attribute):\n",
    "        print(\"__init__():\",self,attribute)\n",
    "        self.attribute = attribute\n",
    "test1 = demoClass(\"abc\")\n",
    "test2 = demoClass(\"xyz\")\n",
    "print(test1.number,test1.instances_created)\n",
    "print(test2.number,test2.instances_created)"
   ]
  },
  {
   "cell_type": "markdown",
   "metadata": {},
   "source": [
    "__new__() 通常会返回该类的一个实例，但有时也可能会返回其他类的实例，如果发生了这种情况，则会跳过对 __init__() 方法的调用。而在某些情况下（比如需要修改不可变类实例（Python 的某些内置类型）的创建行为），利用这一点会事半功倍。比如："
   ]
  },
  {
   "cell_type": "code",
   "execution_count": 2,
   "metadata": {},
   "outputs": [
    {
     "name": "stdout",
     "output_type": "stream",
     "text": [
      "__init__()\n",
      "<class '__main__.nonZero'>\n",
      "<class 'NoneType'>\n"
     ]
    }
   ],
   "source": [
    "class nonZero(int):\n",
    "    def __new__(cls,value):\n",
    "        return super().__new__(cls,value) if value != 0 else None\n",
    "    def __init__(self,skipped_value):\n",
    "        #此例中会跳过此方法\n",
    "        print(\"__init__()\")\n",
    "        super().__init__()\n",
    "print(type(nonZero(-12)))\n",
    "print(type(nonZero(0)))"
   ]
  },
  {
   "cell_type": "markdown",
   "metadata": {},
   "source": [
    "那么，什么情况下使用 __new__() 呢？答案很简单，在 __init__() 不够用的时候。\n",
    "\n",
    "<br p>\n",
    "\n",
    "例如，前面例子中对 Python 不可变的内置类型（如 int、str、float 等）进行了子类化，这是因为一旦创建了这样不可变的对象实例，就无法在 __init__() 方法中对其进行修改。\n",
    "\n",
    "有些读者可能会认为，__new__() 对执行重要的对象初始化很有用，如果用户忘记使用 super()，可能会漏掉这一初始化。虽然这听上去很合理，但有一个主要的缺点，即如果使用这样的方法，那么即便初始化过程已经是预期的行为，程序员明确跳过初始化步骤也会变得更加困难。不仅如此，它还破坏了“__init__() 中执行所有初始化工作”的潜规则。\n",
    "\n",
    "<br p>\n",
    "\n",
    "注意，由于 __new__() 不限于返回同一个类的实例，所以很容易被滥用，不负责任地使用这种方法可能会对代码有害，所以要谨慎使用。一般来说，对于特定问题，最好搜索其他可用的解决方案，最好不要影响对象的创建过程，使其违背程序员的预期。比如说，前面提到的覆写不可变类型初始化的例子，完全可以用工厂方法（一种设计模式）来替代。\n",
    "\n",
    "Python中大量使用 __new__() 方法且合理的，就是 MetaClass 元类。有关元类的介绍，可阅读《Python MetaClass元类》一节。"
   ]
  },
  {
   "cell_type": "code",
   "execution_count": null,
   "metadata": {},
   "outputs": [],
   "source": []
  }
 ],
 "metadata": {
  "kernelspec": {
   "display_name": "Python 3",
   "language": "python",
   "name": "python3"
  },
  "language_info": {
   "codemirror_mode": {
    "name": "ipython",
    "version": 3
   },
   "file_extension": ".py",
   "mimetype": "text/x-python",
   "name": "python",
   "nbconvert_exporter": "python",
   "pygments_lexer": "ipython3",
   "version": "3.6.8"
  }
 },
 "nbformat": 4,
 "nbformat_minor": 2
}

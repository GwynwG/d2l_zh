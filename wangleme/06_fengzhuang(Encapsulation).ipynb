{
 "cells": [
  {
   "cell_type": "markdown",
   "metadata": {},
   "source": [
    "# Python封装机制及实现方法\n",
    "\n",
    "封装（Encapsulation）是面向对象的三大特征之一（另外两个是继承和多态），它指的是将对象的状态信息隐藏在对象内部，不允许外部程序直接访问对象内部信息，而是通过该类所提供的方法来实现对内部信息的操作和访问。\n",
    "\n",
    "就好比使用计算机，我们只需要使用计算机提供的键盘，就可以达到操作计算机的目的，至于在敲击键盘时计算机内部是如何工作，我们根本不需要知道。\n",
    "\n",
    "封装机制保证了类内部数据结构的完整性，因为使用类的用户无法直接看到类中的数据结构，只能使用类允许公开的数据，很好地避免了外部对内部数据的影响，提高了程序的可维护性。总的来说，对一个类或对象实现良好的封装，可以达到以下目的：\n",
    "\n",
    "\n",
    "1隐藏类的实现细节。\n",
    "\n",
    "2让使用者只能通过事先预定的方法来访问数据，从而可以在该方法里加入控制逻辑，限制对属性的不合理访问。\n",
    "\n",
    "3可进行数据检查，从而有利于保证对象信息的完整性。\n",
    "\n",
    "4便于修改，提高代码的可维护性。\n",
    "\n",
    "\n"
   ]
  },
  {
   "cell_type": "markdown",
   "metadata": {},
   "source": [
    "为了实现良好的封装，需要从以下两个方面来考虑：\n",
    "\n",
    "1将对象的属性和实现细节隐藏起来，不允许外部直接访问。\n",
    "\n",
    "2把方法暴露出来，让方法来控制对这些属性进行安全的访问和操作。\n",
    "\n",
    "  因此，实际上封装有两个方面的含义：把该隐藏的隐藏起来，把该暴露的暴露出来。\n",
    "\n",
    "Python 并没有提供类似于其他语言的 private 等修饰符，因此 Python 并不能真正支持隐藏。为了隐藏类中的成员，Python 玩了一个小技巧：只要将 Python 类的成员命名为以双下画线开头的，Python 就会把它们隐藏起来。\n",
    "\n",
    "例如，如下程序示范了 Python 的封装机制："
   ]
  },
  {
   "cell_type": "code",
   "execution_count": 1,
   "metadata": {},
   "outputs": [
    {
     "ename": "ValueError",
     "evalue": "用户名长度必须在3～8之间",
     "output_type": "error",
     "traceback": [
      "\u001b[1;31m---------------------------------------------------------------------------\u001b[0m",
      "\u001b[1;31mValueError\u001b[0m                                Traceback (most recent call last)",
      "\u001b[1;32m<ipython-input-1-7c19fa7330bc>\u001b[0m in \u001b[0;36m<module>\u001b[1;34m\u001b[0m\n\u001b[0;32m     19\u001b[0m \u001b[0mu\u001b[0m \u001b[1;33m=\u001b[0m \u001b[0mUser\u001b[0m\u001b[1;33m(\u001b[0m\u001b[1;33m)\u001b[0m\u001b[1;33m\u001b[0m\u001b[1;33m\u001b[0m\u001b[0m\n\u001b[0;32m     20\u001b[0m \u001b[1;31m# 对name属性赋值，实际上调用setname()方法\u001b[0m\u001b[1;33m\u001b[0m\u001b[1;33m\u001b[0m\u001b[1;33m\u001b[0m\u001b[0m\n\u001b[1;32m---> 21\u001b[1;33m \u001b[0mu\u001b[0m\u001b[1;33m.\u001b[0m\u001b[0mname\u001b[0m \u001b[1;33m=\u001b[0m \u001b[1;34m'fk'\u001b[0m \u001b[1;31m# 引发 ValueError: 用户名长度必须在3～8之间\u001b[0m\u001b[1;33m\u001b[0m\u001b[1;33m\u001b[0m\u001b[0m\n\u001b[0m",
      "\u001b[1;32m<ipython-input-1-7c19fa7330bc>\u001b[0m in \u001b[0;36msetname\u001b[1;34m(self, name)\u001b[0m\n\u001b[0;32m      6\u001b[0m     \u001b[1;32mdef\u001b[0m \u001b[0msetname\u001b[0m\u001b[1;33m(\u001b[0m\u001b[0mself\u001b[0m\u001b[1;33m,\u001b[0m \u001b[0mname\u001b[0m\u001b[1;33m)\u001b[0m\u001b[1;33m:\u001b[0m\u001b[1;33m\u001b[0m\u001b[1;33m\u001b[0m\u001b[0m\n\u001b[0;32m      7\u001b[0m         \u001b[1;32mif\u001b[0m \u001b[0mlen\u001b[0m\u001b[1;33m(\u001b[0m\u001b[0mname\u001b[0m\u001b[1;33m)\u001b[0m \u001b[1;33m<\u001b[0m \u001b[1;36m3\u001b[0m \u001b[1;32mor\u001b[0m \u001b[0mlen\u001b[0m\u001b[1;33m(\u001b[0m\u001b[0mname\u001b[0m\u001b[1;33m)\u001b[0m \u001b[1;33m>\u001b[0m \u001b[1;36m8\u001b[0m\u001b[1;33m:\u001b[0m\u001b[1;33m\u001b[0m\u001b[1;33m\u001b[0m\u001b[0m\n\u001b[1;32m----> 8\u001b[1;33m             \u001b[1;32mraise\u001b[0m \u001b[0mValueError\u001b[0m\u001b[1;33m(\u001b[0m\u001b[1;34m'用户名长度必须在3～8之间'\u001b[0m\u001b[1;33m)\u001b[0m\u001b[1;33m\u001b[0m\u001b[1;33m\u001b[0m\u001b[0m\n\u001b[0m\u001b[0;32m      9\u001b[0m         \u001b[0mself\u001b[0m\u001b[1;33m.\u001b[0m\u001b[0m__name\u001b[0m \u001b[1;33m=\u001b[0m \u001b[0mname\u001b[0m\u001b[1;33m\u001b[0m\u001b[1;33m\u001b[0m\u001b[0m\n\u001b[0;32m     10\u001b[0m     \u001b[0mname\u001b[0m \u001b[1;33m=\u001b[0m \u001b[0mproperty\u001b[0m\u001b[1;33m(\u001b[0m\u001b[0mgetname\u001b[0m\u001b[1;33m,\u001b[0m \u001b[0msetname\u001b[0m\u001b[1;33m)\u001b[0m\u001b[1;33m\u001b[0m\u001b[1;33m\u001b[0m\u001b[0m\n",
      "\u001b[1;31mValueError\u001b[0m: 用户名长度必须在3～8之间"
     ]
    }
   ],
   "source": [
    "class User :\n",
    "    def __hide(self):\n",
    "        print('示范隐藏的hide方法')\n",
    "    def getname(self):\n",
    "        return self.__name\n",
    "    def setname(self, name):\n",
    "        if len(name) < 3 or len(name) > 8:\n",
    "            raise ValueError('用户名长度必须在3～8之间')\n",
    "        self.__name = name\n",
    "    name = property(getname, setname)\n",
    "    def setage(self, age):\n",
    "        if age < 18 or age > 70:\n",
    "            raise ValueError('用户名年龄必须在18在70之间')\n",
    "        self.__age = age\n",
    "    def getage(self):\n",
    "        return self.__age\n",
    "    age = property(getage, setage)\n",
    "# 创建User对象\n",
    "u = User()\n",
    "# 对name属性赋值，实际上调用setname()方法\n",
    "u.name = 'fk' # 引发 ValueError: 用户名长度必须在3～8之间"
   ]
  },
  {
   "cell_type": "markdown",
   "metadata": {},
   "source": [
    "上面程序将 User 的两个实例变量分别命名为 __name 和 __age，这两个实例变量就会被隐藏起来，这样程序就无法直接访问 __name、__age 变量，只能通过 setname()、getname()、setage()、getage() 这些访问器方法进行访问，而 setname()、setage() 会对用户设置的 name、age 进行控制，只有符合条件的 name、age 才允许设置。上面程序尝试将 User 对象的 name 设为 fk，这个字符串的长度为“2”不符合实际要求，因此运行程序最后一行包含如下错误：\n",
    "ValueError：用户名长度必须在3-8之间\n",
    "\n",
    "将最后一行代码注释掉，并在程序尾部添加如下代码：\n",
    "\n",
    "     u.name = 'fkit'\n",
    "     u.age = 25\n",
    "     print(u.name) # fkit\n",
    "     print(u.age) # 25"
   ]
  },
  {
   "cell_type": "code",
   "execution_count": 2,
   "metadata": {},
   "outputs": [
    {
     "name": "stdout",
     "output_type": "stream",
     "text": [
      "fkit\n",
      "25\n"
     ]
    }
   ],
   "source": [
    "class User :\n",
    "    def __hide(self):\n",
    "        print('示范隐藏的hide方法')\n",
    "    def getname(self):\n",
    "        return self.__name\n",
    "    def setname(self, name):\n",
    "        if len(name) < 3 or len(name) > 8:\n",
    "            raise ValueError('用户名长度必须在3～8之间')\n",
    "        self.__name = name\n",
    "    name = property(getname, setname)\n",
    "    def setage(self, age):\n",
    "        if age < 18 or age > 70:\n",
    "            raise ValueError('用户名年龄必须在18在70之间')\n",
    "        self.__age = age\n",
    "    def getage(self):\n",
    "        return self.__age\n",
    "    age = property(getage, setage)\n",
    "# 创建User对象\n",
    "u = User()\n",
    "u.name = 'fkit'\n",
    "u.age = 25\n",
    "print(u.name) # fkit\n",
    "print(u.age) # 25"
   ]
  },
  {
   "cell_type": "markdown",
   "metadata": {},
   "source": [
    "从该程序可以看出封装的好处，程序可以将 User 对象的实现细节隐藏起来，程序只能通过暴露出来的 setname()、setage() 方法来改变 User 对象的状态，而这两个方法可以添加自己的逻辑控制，这种控制对 User 的修改始终是安全的。\n",
    "\n",
    "上面程序还定义了一个 __hide() 方法，这个方法默认是隐藏的。如果程序尝试执行如下代码："
   ]
  },
  {
   "cell_type": "code",
   "execution_count": 3,
   "metadata": {},
   "outputs": [
    {
     "ename": "AttributeError",
     "evalue": "'User' object has no attribute '__hide'",
     "output_type": "error",
     "traceback": [
      "\u001b[1;31m---------------------------------------------------------------------------\u001b[0m",
      "\u001b[1;31mAttributeError\u001b[0m                            Traceback (most recent call last)",
      "\u001b[1;32m<ipython-input-3-f84b405d26f0>\u001b[0m in \u001b[0;36m<module>\u001b[1;34m\u001b[0m\n\u001b[0;32m      1\u001b[0m \u001b[1;31m# 尝试调用隐藏的__hide()方法\u001b[0m\u001b[1;33m\u001b[0m\u001b[1;33m\u001b[0m\u001b[1;33m\u001b[0m\u001b[0m\n\u001b[1;32m----> 2\u001b[1;33m \u001b[0mu\u001b[0m\u001b[1;33m.\u001b[0m\u001b[0m__hide\u001b[0m\u001b[1;33m(\u001b[0m\u001b[1;33m)\u001b[0m\u001b[1;33m\u001b[0m\u001b[1;33m\u001b[0m\u001b[0m\n\u001b[0m",
      "\u001b[1;31mAttributeError\u001b[0m: 'User' object has no attribute '__hide'"
     ]
    }
   ],
   "source": [
    "# 尝试调用隐藏的__hide()方法\n",
    "u.__hide()"
   ]
  },
  {
   "cell_type": "markdown",
   "metadata": {},
   "source": [
    "最后需要说明的是，Python 其实没有真正的隐藏机制，双下画线只是 Python 的一个小技巧，Python 会“偷偷”地改变以双下画线开头的方法名，会在这些方法名前添加单下画线和类名。因此上面的 __hide() 方法其实可以按如下方式调用（通常并不推荐这么干）："
   ]
  },
  {
   "cell_type": "code",
   "execution_count": 4,
   "metadata": {},
   "outputs": [
    {
     "name": "stdout",
     "output_type": "stream",
     "text": [
      "示范隐藏的hide方法\n"
     ]
    }
   ],
   "source": [
    "# 调用隐藏的__hide()方法\n",
    "u._User__hide()"
   ]
  },
  {
   "cell_type": "markdown",
   "metadata": {},
   "source": [
    "通过上面调用可以看出，Python 并没有实现真正的隐藏。\n",
    "\n",
    "类似的是，程序也可通过为隐藏的实例变量添加下画线和类名的方式来访问或修改对象的实例变量。例如如下代码："
   ]
  },
  {
   "cell_type": "code",
   "execution_count": 5,
   "metadata": {},
   "outputs": [
    {
     "name": "stdout",
     "output_type": "stream",
     "text": [
      "fk\n"
     ]
    }
   ],
   "source": [
    "# 对隐藏的__name属性赋值\n",
    "u._User__name = 'fk'\n",
    "# 访问User对象的name属性（实际上访问__name实例变量）\n",
    "print(u.name)"
   ]
  },
  {
   "cell_type": "markdown",
   "metadata": {},
   "source": [
    "上面第 2 行代码实际上就是对 User 对象的 name 实例变量进行赋值，通过这种方式可“绕开”setname() 方法的检查逻辑，直接对 User 对象的 name 属性赋值。运行这两行代码，可以看到如下输出结果：\n"
   ]
  },
  {
   "cell_type": "markdown",
   "metadata": {},
   "source": [
    "# 总结\n",
    "Python 并没有提供真正的隐藏机制，所以 Python 类定义的所有成员默认都是公开的；如果程序希望将 Python 类中的某些成员隐藏起来，那么只要让该成员的名字以双下画线开头即可。\n",
    "\n",
    "即使通过这种机制实现了隐藏，其实也依然可以绕过去。"
   ]
  },
  {
   "cell_type": "code",
   "execution_count": null,
   "metadata": {},
   "outputs": [],
   "source": []
  }
 ],
 "metadata": {
  "kernelspec": {
   "display_name": "Python 3",
   "language": "python",
   "name": "python3"
  },
  "language_info": {
   "codemirror_mode": {
    "name": "ipython",
    "version": 3
   },
   "file_extension": ".py",
   "mimetype": "text/x-python",
   "name": "python",
   "nbconvert_exporter": "python",
   "pygments_lexer": "ipython3",
   "version": "3.6.8"
  }
 },
 "nbformat": 4,
 "nbformat_minor": 2
}

{
 "cells": [
  {
   "cell_type": "markdown",
   "metadata": {},
   "source": [
    "面向对象中，常用术语包括：\n",
    "类：可以理解是一个模板，通过它可以创建出无数个具体实例。比如，前面编写的 tortoise 表示的只是乌龟这个物种，通过它可以创建出无数个实例来代表各种不同特征的乌龟（这一过程又称为类的实例化）。\n",
    "\n",
    "对象：类并不能直接使用，通过类创建出的实例（又称对象）才能使用。这有点像汽车图纸和汽车的关系，图纸本身（类）并不能为人们使用，通过图纸创建出的一辆辆车（对象）才能使用。\n",
    "\n",
    "属性：类中的所有变量称为属性。例如，tortoise 这个类中，bodyColor、footNum、weight、hasShell 都是这个类拥有的属性。\n",
    "\n",
    "方法：类中的所有函数通常称为方法。不过，和函数所有不同的是，类方法至少要包含一个 self 参数（后续会做详细介绍）。例如，tortoise 类中，crawl()、eat()、sleep()、protect() 都是这个类所拥有的方法，类方法无法单独使用，只能和类的对象一起使用。"
   ]
  },
  {
   "cell_type": "code",
   "execution_count": 2,
   "metadata": {},
   "outputs": [
    {
     "name": "stdout",
     "output_type": "stream",
     "text": [
      "这个人的名字是： 张三  年龄为： 20\n"
     ]
    }
   ],
   "source": [
    "class Person :\n",
    "    '''这是一个学习Python定义的一个Person类'''\n",
    "    # 下面定义了2个类变量\n",
    "    name = \"zhangsan\"\n",
    "    age = \"20\"\n",
    "    def __init__(self,name,age):\n",
    "        #下面定义 2 个实例变量\n",
    "        self.name = name\n",
    "        self.age = age\n",
    "        print(\"这个人的名字是：\",name,\" 年龄为：\",age)\n",
    "    # 下面定义了一个say实例方法\n",
    "    def say(self, content):\n",
    "        print(content)\n",
    "# 将该Person对象赋给p变量\n",
    "p = Person(\"张三\",20)"
   ]
  },
  {
   "cell_type": "code",
   "execution_count": 3,
   "metadata": {},
   "outputs": [
    {
     "name": "stdout",
     "output_type": "stream",
     "text": [
      "张三 20\n",
      "Python语言很简单，学习很容易！\n",
      "李刚 20\n"
     ]
    }
   ],
   "source": [
    "# 输出p的name、age实例变量\n",
    "print(p.name, p.age) \n",
    "# 访问p的name实例变量，直接为该实例变量赋值\n",
    "p.name = '李刚'\n",
    "# 调用p的say()方法，声明say()方法时定义了2个形参，但第一个形参（self）不需要传值，因此调用该方法只需为第二个形参指定一个值\n",
    "p.say('Python语言很简单，学习很容易！')\n",
    "# 再次输出p的name、age实例变量\n",
    "print(p.name, p.age)"
   ]
  },
  {
   "cell_type": "code",
   "execution_count": 4,
   "metadata": {},
   "outputs": [
    {
     "name": "stdout",
     "output_type": "stream",
     "text": [
      "zhangsan\n"
     ]
    }
   ],
   "source": [
    "# 删除p对象的name实例变量\n",
    "del p.name\n",
    "# 再次访问p的name实例变量\n",
    "print(p.name)"
   ]
  },
  {
   "cell_type": "code",
   "execution_count": 5,
   "metadata": {},
   "outputs": [
    {
     "ename": "SyntaxError",
     "evalue": "invalid character in identifier (<ipython-input-5-9bc03193daa9>, line 1)",
     "output_type": "error",
     "traceback": [
      "\u001b[1;36m  File \u001b[1;32m\"<ipython-input-5-9bc03193daa9>\"\u001b[1;36m, line \u001b[1;32m1\u001b[0m\n\u001b[1;33m    类变量（类属性）\u001b[0m\n\u001b[1;37m           ^\u001b[0m\n\u001b[1;31mSyntaxError\u001b[0m\u001b[1;31m:\u001b[0m invalid character in identifier\n"
     ]
    }
   ],
   "source": [
    "类变量（类属性）\n",
    "类变量指的是定义在类中，但在各个类方法外的变量。类变量的特点是：所有类的实例化对象都可以共享类变量的值，即类变量可以在所有实例化对象中作为公用资源。\n",
    "\n",
    "注意，类变量推荐直接用类名访问，但也可以使用对象名访问。\n",
    "\n",
    "例如，下面代码定义了一个 Address 类，并为该类定义了多个类属性："
   ]
  },
  {
   "cell_type": "code",
   "execution_count": 6,
   "metadata": {},
   "outputs": [
    {
     "name": "stdout",
     "output_type": "stream",
     "text": [
      "广州\n",
      "510660\n",
      "广州\n",
      "510660\n",
      "佛山\n",
      "460110\n",
      "佛山\n",
      "460110\n"
     ]
    }
   ],
   "source": [
    "class Address :\n",
    "    detail = '广州'\n",
    "    post_code = '510660'\n",
    "    def info (self):\n",
    "        # 尝试直接访问类变量\n",
    "        #print(detail) # 报错\n",
    "        # 通过类来访问类变量\n",
    "        print(Address.detail) # 输出 广州\n",
    "        print(Address.post_code) # 输出 510660\n",
    "#创建 2 个类对象\n",
    "addr1 = Address()\n",
    "addr1.info()\n",
    "addr2 = Address()\n",
    "addr2.info()\n",
    "# 修改Address类的类变量 ，用类才能修改类变量，用对象（实例）就不行\n",
    "Address.detail = '佛山'\n",
    "Address.post_code = '460110'\n",
    "addr1.info()\n",
    "addr2.info()"
   ]
  },
  {
   "cell_type": "code",
   "execution_count": 7,
   "metadata": {},
   "outputs": [
    {
     "name": "stdout",
     "output_type": "stream",
     "text": [
      "佛山很美\n",
      "佛山很美\n"
     ]
    }
   ],
   "source": [
    "Address.depict =\"佛山很美\"\n",
    "print(addr1.depict)\n",
    "print(addr2.depict)"
   ]
  },
  {
   "cell_type": "code",
   "execution_count": 8,
   "metadata": {},
   "outputs": [
    {
     "name": "stdout",
     "output_type": "stream",
     "text": [
      "鼠标\n",
      "2016-06-16\n",
      "info方法中:  鼠标\n",
      "info方法中:  2016-06-16\n"
     ]
    }
   ],
   "source": [
    "class Record:\n",
    "    # 定义两个类变量\n",
    "    item = '鼠标'\n",
    "    date = '2016-06-16'\n",
    "    def info (self):\n",
    "        print('info方法中: ', self.item)\n",
    "        print('info方法中: ', self.date)\n",
    "rc = Record()\n",
    "print(rc.item) # '鼠标'\n",
    "print(rc.date) # '2016-06-16'\n",
    "rc.info()"
   ]
  },
  {
   "cell_type": "markdown",
   "metadata": {},
   "source": [
    "实例变量（实例属性）\n",
    "实例变量指的是定义在类的方法中的属性，它的特点是：只作用于调用方法的对象。\n",
    "\n",
    "注意，实例变量只能通过对象名访问，无法通过类名直接访问。\n",
    "\n",
    "Python 允许通过对象访问类变量，但无法通过对象修改类变量的值。因为，通过对象修改类变量的值，不是在给“类变量赋值”，而是定义新的实例变量。"
   ]
  },
  {
   "cell_type": "code",
   "execution_count": 10,
   "metadata": {},
   "outputs": [
    {
     "name": "stdout",
     "output_type": "stream",
     "text": [
      "显示器\n",
      "500\n",
      "鼠标\n",
      "2000\n"
     ]
    }
   ],
   "source": [
    "class Inventory:\n",
    "    # 定义两个类变量\n",
    "    item = '鼠标'\n",
    "    quantity = 2000\n",
    "    # 定义实例方法\n",
    "    def change(self, item, quantity):\n",
    "        # 下面赋值语句不是对类变量赋值，而是定义新的实例变量\n",
    "        self.item = item\n",
    "        self.quantity = quantity\n",
    "# 创建Inventory对象\n",
    "iv = Inventory()\n",
    "iv.change('显示器', 500)\n",
    "# 访问iv的item和quantity实例变量\n",
    "print(iv.item) # 显示器\n",
    "print(iv.quantity) # 500\n",
    "# 访问Inventory的item和quantity类变量\n",
    "print(Inventory.item) # 鼠标\n",
    "print(Inventory.quantity) # 2000"
   ]
  },
  {
   "cell_type": "markdown",
   "metadata": {},
   "source": [
    "上面程序中，第 8、9 行代码通过实例对 item、quantity 变量赋值，看上去很像是对类变量赋值，但并不是，它们的作用是：重新定义了两个实例变量。\n",
    "类中，实例变量和类变量可以同名，但是在这种情况下，使用类对象将无法调用类变量，因为它会首选实例变量，因此这也是不推荐“类变量使用对象名调用”的原因。\n",
    "\n",
    "上面程序在调用 Inventory 对象的 change() 方法之后，访问 Inventory 对象的 item、quantity 变量，由于该对象本身己有这两个实例变量，因此程序将会输出该对象的实例变量的值；接下来程序通过 Inventory 访问它的 item、quantity 两个类变量，此时才是真的访问类变量。\n",
    "即便程序通过类修改了两个类变量的值，程序中 Inventory 的实例变量的值也不会受到任何影响。例如如下代码："
   ]
  },
  {
   "cell_type": "code",
   "execution_count": 12,
   "metadata": {},
   "outputs": [
    {
     "name": "stdout",
     "output_type": "stream",
     "text": [
      "显示器\n",
      "500\n"
     ]
    }
   ],
   "source": [
    "Inventory.item = '类变量item'\n",
    "Inventory.quantity = '类变量quantity'\n",
    "# 访问iv的item和quantity实例变量\n",
    "print(iv.item)\n",
    "print(iv.quantity)"
   ]
  },
  {
   "cell_type": "markdown",
   "metadata": {},
   "source": [
    "上面程序开始就修改了 Inventory 类中两个类变量的值，但这种修改对 Inventory 对象的实例变量没有任何影响。\n",
    "\n",
    "同样，如果程序对一个对象的实例变量进行了修改，这种修改也不会影响类变量的值，更不会影响其他对象中实例变量的值。例如如下代码："
   ]
  },
  {
   "cell_type": "code",
   "execution_count": 13,
   "metadata": {},
   "outputs": [
    {
     "name": "stdout",
     "output_type": "stream",
     "text": [
      "类变量item\n",
      "类变量quantity\n",
      "iv实例变量item\n",
      "iv实例变量quantity\n"
     ]
    }
   ],
   "source": [
    "iv2 = Inventory()\n",
    "iv2.change('键盘',300)\n",
    "iv.item = 'iv实例变量item'\n",
    "iv.quantity = 'iv实例变量quantity'\n",
    "print(Inventory.item)\n",
    "print(Inventory.quantity)\n",
    "print(iv.item)\n",
    "print(iv.quantity)"
   ]
  },
  {
   "cell_type": "markdown",
   "metadata": {},
   "source": [
    "从输出结果很容易看出，修改一个对象的实例变量，既不会影响类变量的值，也不会影响其它对象的实例变量。\n",
    "\n",
    "和动态为类添加类变量不同，Python 只支持为特定的对象添加实例变量。例如，在之前代码的基础上，为 iv 对象添加 color 实例变量，实现代码为："
   ]
  },
  {
   "cell_type": "code",
   "execution_count": 15,
   "metadata": {},
   "outputs": [
    {
     "name": "stdout",
     "output_type": "stream",
     "text": [
      "red\n"
     ]
    },
    {
     "ename": "AttributeError",
     "evalue": "'Inventory' object has no attribute 'color'",
     "output_type": "error",
     "traceback": [
      "\u001b[1;31m---------------------------------------------------------------------------\u001b[0m",
      "\u001b[1;31mAttributeError\u001b[0m                            Traceback (most recent call last)",
      "\u001b[1;32m<ipython-input-15-a0784e5a57d8>\u001b[0m in \u001b[0;36m<module>\u001b[1;34m\u001b[0m\n\u001b[0;32m      2\u001b[0m \u001b[0mprint\u001b[0m\u001b[1;33m(\u001b[0m\u001b[0miv\u001b[0m\u001b[1;33m.\u001b[0m\u001b[0mcolor\u001b[0m\u001b[1;33m)\u001b[0m\u001b[1;33m\u001b[0m\u001b[1;33m\u001b[0m\u001b[0m\n\u001b[0;32m      3\u001b[0m \u001b[1;31m#因为 color 实例变量仅 iv 对象有，iv2 对象并没有，因此下面这行代码会报错\u001b[0m\u001b[1;33m\u001b[0m\u001b[1;33m\u001b[0m\u001b[1;33m\u001b[0m\u001b[0m\n\u001b[1;32m----> 4\u001b[1;33m \u001b[0mprint\u001b[0m\u001b[1;33m(\u001b[0m\u001b[0miv2\u001b[0m\u001b[1;33m.\u001b[0m\u001b[0mcolor\u001b[0m\u001b[1;33m)\u001b[0m\u001b[1;33m\u001b[0m\u001b[1;33m\u001b[0m\u001b[0m\n\u001b[0m",
      "\u001b[1;31mAttributeError\u001b[0m: 'Inventory' object has no attribute 'color'"
     ]
    }
   ],
   "source": [
    "iv.color=\"red\"\n",
    "print(iv.color)\n",
    "#因为 color 实例变量仅 iv 对象有，iv2 对象并没有，因此下面这行代码会报错\n",
    "print(iv2.color)"
   ]
  },
  {
   "cell_type": "code",
   "execution_count": null,
   "metadata": {},
   "outputs": [],
   "source": []
  }
 ],
 "metadata": {
  "kernelspec": {
   "display_name": "Python 3",
   "language": "python",
   "name": "python3"
  },
  "language_info": {
   "codemirror_mode": {
    "name": "ipython",
    "version": 3
   },
   "file_extension": ".py",
   "mimetype": "text/x-python",
   "name": "python",
   "nbconvert_exporter": "python",
   "pygments_lexer": "ipython3",
   "version": "3.6.8"
  }
 },
 "nbformat": 4,
 "nbformat_minor": 2
}

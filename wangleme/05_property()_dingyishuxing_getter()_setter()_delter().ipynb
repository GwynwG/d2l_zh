{
 "cells": [
  {
   "cell_type": "markdown",
   "metadata": {},
   "source": [
    "# Python property()函数：定义属性\n",
    "前面章节中，我们一直在用“类对象.属性”的方式访问类中定义的属性，其实这种做法是欠妥的，因为它破坏了类的封装原则。换句话说，正常情况下的类，它包含的属性应该是隐藏的，只允许通过类提供的方法来间接实现对类属性的访问和操作。\n",
    "\n",
    "因此，在不破坏类封装原则的基础上，为了能够有效操作类中的属性，类中应包含读（或写）类属性的多个 getter（或 setter）方法，这样就可以通过“类对象.方法(参数)”的方式操作属性，例如："
   ]
  },
  {
   "cell_type": "code",
   "execution_count": 1,
   "metadata": {},
   "outputs": [
    {
     "name": "stdout",
     "output_type": "stream",
     "text": [
      "(6, 8)\n"
     ]
    }
   ],
   "source": [
    "class Rectangle:\n",
    "    # 定义构造方法\n",
    "    def __init__(self, width, height):\n",
    "        self.width = width\n",
    "        self.height = height\n",
    "    # 定义setsize()函数\n",
    "    def setsize (self , size):\n",
    "        self.width, self.height = size\n",
    "    # 定义getsize()函数\n",
    "    def getsize (self):\n",
    "        return self.width, self.height\n",
    "     # 定义delsize()函数\n",
    "    def delsize (self):\n",
    "        self.width, self.height = 0, 0\n",
    "rect = Rectangle(3 , 4)\n",
    "rect.setsize((6,8))\n",
    "print(rect.getsize())"
   ]
  },
  {
   "cell_type": "markdown",
   "metadata": {},
   "source": [
    "可能有读者觉得，这种操作类属性的方式比较麻烦，更习惯使用“类对象.属性”这种方式。庆幸的是，Python 中提供了 property() 函数，可以实现在不破坏类封装原则的前提下，让开发者依旧使用“类对象.属性”的方式操作类中的属性。\n",
    "\n",
    "property() 函数的基本使用格式如下：\n",
    "\n",
    "属性名=property(fget=None, fset=None, fdel=None, doc=None)\n",
    "\n",
    "其中，fget 参数用于指定获取该属性值的类方法，fset 参数用于指定设置该属性值的方法，fdel 参数用于指定删除该属性值的方法，最后的 doc 是一个文档字符串，用于提供说明此函数的作用。\n",
    "\n",
    "开发者调用 property() 函数时，可以传入 0 个（既不能读，也不能写的属性）、1 个（只读属性）、2 个（读写属性）、3 个（读写属性，也可删除）和 4 个（读写属性，也可删除，包含文档说明）参数。\n",
    "\n",
    "例如，对前面的 Rectangle 类做适当的修改，使用 property() 函数定义一个 size 属性："
   ]
  },
  {
   "cell_type": "code",
   "execution_count": 2,
   "metadata": {},
   "outputs": [
    {
     "name": "stdout",
     "output_type": "stream",
     "text": [
      "用于描述矩形大小的属性\n",
      "Help on property:\n",
      "\n",
      "    用于描述矩形大小的属性\n",
      "\n",
      "(4, 3)\n",
      "9\n",
      "7\n",
      "0\n",
      "0\n"
     ]
    }
   ],
   "source": [
    "class Rectangle:\n",
    "    # 定义构造方法\n",
    "    def __init__(self, width, height):\n",
    "        self.width = width\n",
    "        self.height = height\n",
    "    # 定义setsize()函数\n",
    "    def setsize (self , size):\n",
    "        self.width, self.height = size\n",
    "    # 定义getsize()函数\n",
    "    def getsize (self):\n",
    "        return self.width, self.height\n",
    "     # 定义getsize()函数\n",
    "    def delsize (self):\n",
    "        self.width, self.height = 0, 0 \n",
    "    # 使用property定义属性\n",
    "    size = property(getsize, setsize, delsize, '用于描述矩形大小的属性')\n",
    "# 访问size属性的说明文档\n",
    "print(Rectangle.size.__doc__)\n",
    "# 通过内置的help()函数查看Rectangle.size的说明文档\n",
    "help(Rectangle.size)\n",
    "rect = Rectangle(4, 3)\n",
    "# 访问rect的size属性\n",
    "print(rect.size) # (4, 3)\n",
    "# 对rect的size属性赋值\n",
    "rect.size = 9, 7\n",
    "# 访问rect的width、height实例变量\n",
    "print(rect.width) # 9\n",
    "print(rect.height) # 7\n",
    "# 删除rect的size属性\n",
    "del rect.size\n",
    "# 访问rect的width、height实例变量\n",
    "print(rect.width) # 0\n",
    "print(rect.height) # 0"
   ]
  },
  {
   "cell_type": "markdown",
   "metadata": {},
   "source": [
    "程序中，使用 property() 函数定义了一个 size 属性，在定义该属性时一共传入了 4 个参数，这意味着该属性可读、可写、可删除，也有说明文档。所以，该程序尝试对 Rectangle 对象的 size 属性进行读、写、删除操作，其实这种读、写、删除操作分别被委托给 getsize()、setsize() 和 delsize() 方法来实现。\n"
   ]
  },
  {
   "cell_type": "markdown",
   "metadata": {},
   "source": [
    "在使用 property() 函数定义属性时，也可根据需要只传入少量的参数。例如，如下代码使用 property() 函数定义了一个读写属性，该属性不能删除："
   ]
  },
  {
   "cell_type": "code",
   "execution_count": 3,
   "metadata": {},
   "outputs": [
    {
     "name": "stdout",
     "output_type": "stream",
     "text": [
      "悟空,孙\n",
      "八戒\n",
      "朱\n"
     ]
    }
   ],
   "source": [
    "class User :\n",
    "    def __init__ (self, first, last):\n",
    "        self.first = first\n",
    "        self.last = last\n",
    "    def getfullname(self):\n",
    "        return self.first + ',' + self.last\n",
    "    def setfullname(self, fullname):\n",
    "        first_last = fullname.rsplit(',');\n",
    "        self.first = first_last[0]\n",
    "        self.last = first_last[1]\n",
    "    # 使用property()函数定义fullname属性，只传入2个参数\n",
    "    # 该属性是一个读写属性，但不能删除\n",
    "    fullname = property(getfullname, setfullname)\n",
    "u = User('悟空', '孙')\n",
    "# 访问fullname属性\n",
    "print(u.fullname)\n",
    "# 对fullname属性赋值\n",
    "u.fullname = '八戒,朱'\n",
    "print(u.first)\n",
    "print(u.last)"
   ]
  },
  {
   "cell_type": "markdown",
   "metadata": {},
   "source": [
    "在某些编程语言中，类似于这种 property() 函数合成的属性被称为计算属性。这种属性并不真正存储任何状态，它的值其实是通过某种算法计算得到的。当程序对该属性赋值时，被赋的值也会被存储到其他实例变量中。"
   ]
  },
  {
   "cell_type": "markdown",
   "metadata": {},
   "source": [
    "# @property装饰器详解\n",
    "既要保护类的封装特性，又要让开发者可以使用“对象.属性”的方式操作操作类属性，除了使用 property() 函数，Python 还提供了 @property 装饰器。通过 @property 装饰器，可以直接通过方法名来访问方法，不需要在方法名后添加一对“（）”小括号。\n",
    "\n",
    "@property 的语法格式如下：\n",
    "\n",
    "    @property\n",
    "    def 方法名(self):\n",
    "      代码块\n",
    "例如，定义一个矩形类，并定义用 @property 修饰的方法操作类中的 area 私有属性，代码如下："
   ]
  },
  {
   "cell_type": "code",
   "execution_count": 7,
   "metadata": {},
   "outputs": [
    {
     "name": "stdout",
     "output_type": "stream",
     "text": [
      "矩形的面积是： 30\n"
     ]
    }
   ],
   "source": [
    "class Rect:\n",
    "    def __init__(self,area):\n",
    "        self.__area = area\n",
    "    @property\n",
    "    def area(self):\n",
    "        return self.__area\n",
    "rect = Rect(30)\n",
    "#直接通过方法名来访问 area 方法\n",
    "print(\"矩形的面积是：\",rect.area)"
   ]
  },
  {
   "cell_type": "markdown",
   "metadata": {},
   "source": [
    "上面程序中，使用 ＠property 修饰了 area() 方法，这样就使得该方法变成了 area 属性的 getter 方法。需要注意的是，如果类中只包含该方法，那么 area 属性将是一个只读属性。\n",
    "\n",
    "也就是说，在使用 Rect 类时，无法对 area 属性重新赋值，即运行如下代码会报错："
   ]
  },
  {
   "cell_type": "code",
   "execution_count": 5,
   "metadata": {},
   "outputs": [
    {
     "ename": "AttributeError",
     "evalue": "can't set attribute",
     "output_type": "error",
     "traceback": [
      "\u001b[1;31m---------------------------------------------------------------------------\u001b[0m",
      "\u001b[1;31mAttributeError\u001b[0m                            Traceback (most recent call last)",
      "\u001b[1;32m<ipython-input-5-fa0567b0497d>\u001b[0m in \u001b[0;36m<module>\u001b[1;34m\u001b[0m\n\u001b[1;32m----> 1\u001b[1;33m \u001b[0mrect\u001b[0m\u001b[1;33m.\u001b[0m\u001b[0marea\u001b[0m \u001b[1;33m=\u001b[0m \u001b[1;36m90\u001b[0m\u001b[1;33m\u001b[0m\u001b[1;33m\u001b[0m\u001b[0m\n\u001b[0m\u001b[0;32m      2\u001b[0m \u001b[0mprint\u001b[0m\u001b[1;33m(\u001b[0m\u001b[1;34m\"修改后的面积：\"\u001b[0m\u001b[1;33m,\u001b[0m\u001b[0mrect\u001b[0m\u001b[1;33m.\u001b[0m\u001b[0marea\u001b[0m\u001b[1;33m)\u001b[0m\u001b[1;33m\u001b[0m\u001b[1;33m\u001b[0m\u001b[0m\n",
      "\u001b[1;31mAttributeError\u001b[0m: can't set attribute"
     ]
    }
   ],
   "source": [
    "rect.area = 90\n",
    "print(\"修改后的面积：\",rect.area)"
   ]
  },
  {
   "cell_type": "markdown",
   "metadata": {},
   "source": [
    "而要想实现修改 area 属性的值，还需要为 area 属性添加 setter 方法，就需要用到 setter 装饰器，它的语法格式如下：\n",
    "\n",
    "    @方法名.setter\n",
    "    def 方法名(self, value):\n",
    "       代码块\n",
    "\n",
    "例如，为 Rect 类中的 area 方法添加 setter 方法，代码如下："
   ]
  },
  {
   "cell_type": "code",
   "execution_count": 11,
   "metadata": {},
   "outputs": [
    {
     "name": "stdout",
     "output_type": "stream",
     "text": [
      "修改后的面积： 90\n"
     ]
    }
   ],
   "source": [
    "class Rect:\n",
    "    def __init__(self,area):\n",
    "        self.__area = area\n",
    "    @property\n",
    "    def area(self):\n",
    "        return self.__area\n",
    "    \n",
    "    @area.setter\n",
    "    def area(self, value):\n",
    "        self.__area = value\n",
    "rect = Rect(30)\n",
    "rect.area = 90\n",
    "print(\"修改后的面积：\",rect.area)"
   ]
  },
  {
   "cell_type": "markdown",
   "metadata": {},
   "source": [
    "这样，area 属性就有了 getter 和 setter 方法，该属性就变成了具有读写功能的属性。\n",
    "\n",
    "除此之外，还可以使用 deleter 装饰器来删除指定属性，其语法格式为：\n",
    "\n",
    "     @方法名.deleter\n",
    "     def 方法名(self):\n",
    "        代码块\n",
    "\n",
    "例如，在 Rect 类中，给 area() 方法添加 deleter 方法，实现代码如下："
   ]
  },
  {
   "cell_type": "code",
   "execution_count": 12,
   "metadata": {},
   "outputs": [
    {
     "name": "stdout",
     "output_type": "stream",
     "text": [
      "删除后的area值为： 0\n"
     ]
    }
   ],
   "source": [
    "class Rect:\n",
    "    def __init__(self,area):\n",
    "        self.__area = area\n",
    "    @property\n",
    "    def area(self):\n",
    "        return self.__area\n",
    "    \n",
    "    @area.setter\n",
    "    def area(self, value):\n",
    "        self.__area = value\n",
    "    \n",
    "    @area.deleter\n",
    "    def area(self):\n",
    "        self.__area = 0\n",
    "        \n",
    "rect = Rect(30)\n",
    "del rect.area\n",
    "print(\"删除后的area值为：\",rect.area)"
   ]
  },
  {
   "cell_type": "code",
   "execution_count": null,
   "metadata": {},
   "outputs": [],
   "source": []
  }
 ],
 "metadata": {
  "kernelspec": {
   "display_name": "Python 3",
   "language": "python",
   "name": "python3"
  },
  "language_info": {
   "codemirror_mode": {
    "name": "ipython",
    "version": 3
   },
   "file_extension": ".py",
   "mimetype": "text/x-python",
   "name": "python",
   "nbconvert_exporter": "python",
   "pygments_lexer": "ipython3",
   "version": "3.6.8"
  }
 },
 "nbformat": 4,
 "nbformat_minor": 2
}

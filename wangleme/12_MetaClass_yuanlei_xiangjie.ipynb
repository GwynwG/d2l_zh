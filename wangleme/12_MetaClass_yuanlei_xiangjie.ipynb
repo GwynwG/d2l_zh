{
 "cells": [
  {
   "cell_type": "markdown",
   "metadata": {},
   "source": [
    "# Python MetaClass元类详解\n",
    "\n",
    "type() 函数更适合于动态地创建相对简单的类，如果要创建更复杂的类，则需要通过 MetaClass（元类）的方式。\n",
    "\n",
    "<br />\n",
    "\n",
    "MetaClass（元类），简单的理解，就是创建类的类，即创建类之后，再由类来创建实例进行应用。使用元类可以在创建类时动态修改类定义。为了使用元类动态修改类定义，程序需要先定义元类。\n",
    "注意，不要从字面上去理解元类的含义，事实上，MetaClass 中的 Meta 这个词根，起源于希腊语词汇 meta，包含“超越”和“改变”的意思。\n",
    "\n",
    "<br />\n",
    "\n",
    "定义元类时，需令其继承于type 类，且默认的命名习惯是，让类名以 MetaClass 结尾。不仅如此，元类中需要定义并实现 \\_\\_new__() 方法（一定要有返回值）。因为元类在创建类时，该 \\_\\_new__() 方法将会被调用，用来生成新建的类。\n",
    "之所有要求元类继承 type 并实现 \\_\\_new__() 方法，是因为在创建类时，内部调用了 type 的 \\_\\_new__() 方法为这个类分配内存空间，当内存分配完成后，便会调用 type 的 \\_\\_init__ 方法初始化。\n",
    "\n",
    "<br />\n",
    "\n",
    "下面程序定义了一个元类类："
   ]
  },
  {
   "cell_type": "code",
   "execution_count": 1,
   "metadata": {},
   "outputs": [],
   "source": [
    "# 定义Item元类，继承type\n",
    "class ItemMetaClass(type):\n",
    "    # cls代表动态修改的类\n",
    "    # name代表动态修改的类名\n",
    "    # bases代表被动态修改的类的所有父类\n",
    "    # attr代表被动态修改的类的所有属性、方法组成的字典\n",
    "    def __new__(cls, name, bases, attrs):\n",
    "        # 动态为该类添加一个cal_price方法\n",
    "        attrs['cal_price'] = lambda self: self.price * self.discount\n",
    "        return type.__new__(cls, name, bases, attrs)"
   ]
  },
  {
   "cell_type": "markdown",
   "metadata": {},
   "source": [
    "上面程序定义了一个 ItemMetaClass，该类继承了 type 类，并重写了 \\_\\_new__ 方法，在重写该方法时为目标类动态添加了一个 cal_price 方法。\n",
    "\n",
    "元类的 \\_\\_new__ 方法的作用是：当程序使用 class 定义新类时，如果指定了元类，那么元类的 \\_\\_new__ 方法就会被自动执行。\n",
    "\n",
    "例如，如下程序使用元类定义了两个类："
   ]
  },
  {
   "cell_type": "code",
   "execution_count": 2,
   "metadata": {},
   "outputs": [],
   "source": [
    "# 定义Book类\n",
    "class Book(metaclass=ItemMetaClass):\n",
    "    __slots__ = ('name', 'price', '_discount')\n",
    "    def __init__(self, name, price):\n",
    "        self.name = name\n",
    "        self.price = price\n",
    "    @property\n",
    "    def discount(self):\n",
    "        return self._discount\n",
    "    @discount.setter\n",
    "    def discount(self, discount):\n",
    "        self._discount = discount\n",
    "# 定义cellPhone类\n",
    "class CellPhone(metaclass=ItemMetaClass):\n",
    "    __slots__ = ('price', '_discount' )\n",
    "    def __init__(self, price):\n",
    "        self.price = price\n",
    "    @property\n",
    "    def discount(self):\n",
    "        return self._discount\n",
    "    @discount.setter\n",
    "    def discount(self, discount):\n",
    "        self._discount = discount"
   ]
  },
  {
   "cell_type": "markdown",
   "metadata": {},
   "source": [
    "上面程序定义了 Book 和 CellPhone 两个类，在定义这两个类时都指定了元类信息，因此当 Python 解释器在创建这两个类时，ItemMetaClass 的 \\_\\_new__ 方法就会被调用，用于修改这两个类。\n",
    "\n",
    "ItemMetaClass 类的 \\_\\_new__ 方法会为目标类动态添加 cal_price 方法，因此，虽然在定义 Book、CellPhone 类时没有定义 cal_price() 方法，但这两个类依然有 cal_price() 方法。如下程序测试了 Book、CellPhone 两个类的 cal_price() 方法： "
   ]
  },
  {
   "cell_type": "code",
   "execution_count": 3,
   "metadata": {},
   "outputs": [
    {
     "name": "stdout",
     "output_type": "stream",
     "text": [
      "67.64\n",
      "2039.1499999999999\n"
     ]
    }
   ],
   "source": [
    "b = Book(\"Python基础教程\", 89)\n",
    "b.discount = 0.76\n",
    "# 创建Book对象的cal_price()方法\n",
    "print(b.cal_price())\n",
    "cp = CellPhone(2399)\n",
    "cp.discount = 0.85\n",
    "# 创建CellPhone对象的cal_price()方法\n",
    "print(cp.cal_price())"
   ]
  },
  {
   "cell_type": "markdown",
   "metadata": {},
   "source": [
    "从上面的运行结果来看，通过使用元类可以动态修改程序中的一批类，对它们集中进行某种修改。这个功能在开发一些基础性框架时非常有用，程序可以通过使用元类为某一批需要具有通用功能的类添加方法。"
   ]
  },
  {
   "cell_type": "code",
   "execution_count": null,
   "metadata": {},
   "outputs": [],
   "source": []
  }
 ],
 "metadata": {
  "kernelspec": {
   "display_name": "Python 3",
   "language": "python",
   "name": "python3"
  },
  "language_info": {
   "codemirror_mode": {
    "name": "ipython",
    "version": 3
   },
   "file_extension": ".py",
   "mimetype": "text/x-python",
   "name": "python",
   "nbconvert_exporter": "python",
   "pygments_lexer": "ipython3",
   "version": "3.6.8"
  }
 },
 "nbformat": 4,
 "nbformat_minor": 2
}
